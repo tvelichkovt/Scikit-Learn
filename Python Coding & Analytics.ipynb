{
 "cells": [
  {
   "cell_type": "code",
   "execution_count": 1,
   "metadata": {},
   "outputs": [
    {
     "name": "stdout",
     "output_type": "stream",
     "text": [
      "          B          C\n",
      "A                     \n",
      "1  0.000000   4.500000\n",
      "2  1.000000  12.333333\n",
      "3  1.666667   4.666667\n"
     ]
    }
   ],
   "source": [
    "# Compute variance of groups, excluding missing values\n",
    "\n",
    "import pandas as pd\n",
    "import numpy as np\n",
    "\n",
    "\n",
    "\n",
    "def df_groupby_var():\n",
    "    df = pd.DataFrame({'A': [1, 2, 3, 1, 2, 3, 3, 3, 2],\n",
    "                       'B': [0, 1, 5, 0, 2, 4, 3, 2, 3],\n",
    "                       'C': [1, 2, 3, 4, 5, 6, 7, 8, 9]})\n",
    "    out_df = df.groupby('A').var()\n",
    "\n",
    "    # Expect DataFrame of\n",
    "    # {'B': [0.000000, 1.000000, 1.666667], 'C': [4.500000, 12.333333, 4.666667} with index=[1, 2, 3]\n",
    "    return out_df\n",
    "\n",
    "\n",
    "print(df_groupby_var())"
   ]
  },
  {
   "cell_type": "code",
   "execution_count": 2,
   "metadata": {},
   "outputs": [
    {
     "name": "stdout",
     "output_type": "stream",
     "text": [
      "    B   C\n",
      "A        \n",
      "1   0   5\n",
      "2   6  16\n",
      "3  14  24\n"
     ]
    }
   ],
   "source": [
    "# Compute sum of groups, excluding missing values\n",
    "\n",
    "def df_groupby_sum():\n",
    "    df = pd.DataFrame({'A': [1, 2, 3, 1, 2, 3, 3, 3, 2],\n",
    "                       'B': [0, 1, 5, 0, 2, 4, 3, 2, 3],\n",
    "                       'C': [1, 2, 3, 4, 5, 6, 7, 8, 9]})\n",
    "    out_df = df.groupby('A').sum()\n",
    "\n",
    "    # Expect DataFrame of\n",
    "    # {'B': [0, 6, 14], 'C': [5, 16, 24} with index=[1, 2, 3]\n",
    "    return out_df\n",
    "\n",
    "\n",
    "print(df_groupby_sum())"
   ]
  },
  {
   "cell_type": "code",
   "execution_count": 3,
   "metadata": {},
   "outputs": [
    {
     "name": "stdout",
     "output_type": "stream",
     "text": [
      "          B         C\n",
      "A                    \n",
      "1  0.000000  2.121320\n",
      "2  1.000000  3.511885\n",
      "3  1.290994  2.160247\n"
     ]
    }
   ],
   "source": [
    "# Compute standard deviation of groups, excluding missing values\n",
    "\n",
    "def df_groupby_std():\n",
    "    df = pd.DataFrame({'A': [1, 2, 3, 1, 2, 3, 3, 3, 2],\n",
    "                       'B': [0, 1, 5, 0, 2, 4, 3, 2, 3],\n",
    "                       'C': [1, 2, 3, 4, 5, 6, 7, 8, 9]})\n",
    "    out_df = df.groupby('A').std()\n",
    "\n",
    "    # Expect DataFrame of\n",
    "    # {'B': [0.000000, 1.000000, 1.290994], 'C': [2.121320, 3.511885, 2.160247} with index=[1, 2, 3]\n",
    "    return out_df\n",
    "\n",
    "\n",
    "print(df_groupby_std())"
   ]
  },
  {
   "cell_type": "code",
   "execution_count": 4,
   "metadata": {},
   "outputs": [
    {
     "name": "stdout",
     "output_type": "stream",
     "text": [
      "     B     C\n",
      "A           \n",
      "1    0     4\n",
      "2    6    90\n",
      "3  120  1008\n"
     ]
    }
   ],
   "source": [
    "# Compute prod of group values\n",
    "\n",
    "def df_groupby_prod():\n",
    "    df = pd.DataFrame({'A': [1, 2, 3, 1, 2, 3, 3, 3, 2],\n",
    "                       'B': [0, 1, 5, 0, 2, 4, 3, 2, 3],\n",
    "                       'C': [1, 2, 3, 4, 5, 6, 7, 8, 9]})\n",
    "    out_df = df.groupby('A').prod()\n",
    "\n",
    "    # Expect DataFrame of\n",
    "    # {'B': [0, 6, 120], 'C': [4, 90, 1008} with index=[1, 2, 3]\n",
    "    return out_df\n",
    "\n",
    "\n",
    "print(df_groupby_prod())"
   ]
  },
  {
   "cell_type": "code",
   "execution_count": 5,
   "metadata": {},
   "outputs": [
    {
     "name": "stdout",
     "output_type": "stream",
     "text": [
      "   B  C\n",
      "A      \n",
      "1  0  1\n",
      "2  1  2\n",
      "3  2  3\n"
     ]
    }
   ],
   "source": [
    "# Compute min of group values\n",
    "\n",
    "def df_groupby_min():\n",
    "    df = pd.DataFrame({'A': [1, 2, 3, 1, 2, 3, 3, 3, 2],\n",
    "                       'B': [0, 1, 5, 0, 2, 4, 3, 2, 3],\n",
    "                       'C': [1, 2, 3, 4, 5, 6, 7, 8, 9]})\n",
    "    out_df = df.groupby('A').min()\n",
    "\n",
    "    # Expect DataFrame of\n",
    "    # {'B': [0, 1, 2], 'C': [1, 2, 3} with index=[1, 2, 3]\n",
    "    return out_df\n",
    "\n",
    "\n",
    "print(df_groupby_min())"
   ]
  },
  {
   "cell_type": "code",
   "execution_count": 6,
   "metadata": {},
   "outputs": [
    {
     "name": "stdout",
     "output_type": "stream",
     "text": [
      "     B    C\n",
      "A          \n",
      "1  0.0  2.5\n",
      "2  3.0  5.0\n",
      "3  3.5  6.5\n"
     ]
    }
   ],
   "source": [
    "# Compute median of groups, excluding missing values\n",
    "\n",
    "def df_groupby_median():\n",
    "    df = pd.DataFrame({'A': [1, 2, 3, 1, 2, 3, 3, 3, 2],\n",
    "                       'B': [0, 1, 5, 0, 3, 4, 3, 2, 4],\n",
    "                       'C': [1, 2, 3, 4, 5, 6, 7, 8, 9]})\n",
    "    out_df = df.groupby('A').median()\n",
    "\n",
    "    # Expect DataFrame of\n",
    "    # {'B': [0.0, 3.0, 3.5], 'C': [2.5, 5.0, 6.5} with index=[1, 2, 3]\n",
    "    return out_df\n",
    "\n",
    "\n",
    "print(df_groupby_median())"
   ]
  },
  {
   "cell_type": "code",
   "execution_count": 7,
   "metadata": {},
   "outputs": [
    {
     "name": "stdout",
     "output_type": "stream",
     "text": [
      "     B         C\n",
      "A               \n",
      "1  0.0  2.500000\n",
      "2  2.0  5.333333\n",
      "3  3.5  6.000000\n"
     ]
    }
   ],
   "source": [
    "# Compute mean of groups, excluding missing values\n",
    "\n",
    "def df_groupby_mean():\n",
    "    df = pd.DataFrame({'A': [1, 2, 3, 1, 2, 3, 3, 3, 2],\n",
    "                       'B': [0, 1, 5, 0, 2, 4, 3, 2, 3],\n",
    "                       'C': [1, 2, 3, 4, 5, 6, 7, 8, 9]})\n",
    "    out_df = df.groupby('A').mean()\n",
    "\n",
    "    # Expect DataFrame of\n",
    "    # {'B': [0.0, 2.0, 3.5], 'C': [2.500000, 5.333333, 6.000000} with index=[1, 2, 3]\n",
    "    return out_df\n",
    "\n",
    "\n",
    "print(df_groupby_mean())"
   ]
  },
  {
   "cell_type": "code",
   "execution_count": 8,
   "metadata": {},
   "outputs": [
    {
     "name": "stdout",
     "output_type": "stream",
     "text": [
      "   B  C\n",
      "A      \n",
      "1  0  4\n",
      "2  3  9\n",
      "3  5  8\n"
     ]
    }
   ],
   "source": [
    "# Compute max of group values\n",
    "\n",
    "def df_groupby_max():\n",
    "    df = pd.DataFrame({'A': [1, 2, 3, 1, 2, 3, 3, 3, 2],\n",
    "                       'B': [0, 1, 5, 0, 2, 4, 3, 2, 3],\n",
    "                       'C': [1, 2, 3, 4, 5, 6, 7, 8, 9]})\n",
    "    out_df = df.groupby('A').max()\n",
    "\n",
    "    # Expect DataFrame of\n",
    "    # {'B': [0, 3, 5], 'C': [4, 9, 8} with index=[1, 2, 3]\n",
    "    return out_df\n",
    "\n",
    "\n",
    "print(df_groupby_max())"
   ]
  },
  {
   "cell_type": "code",
   "execution_count": 9,
   "metadata": {},
   "outputs": [
    {
     "name": "stdout",
     "output_type": "stream",
     "text": [
      "   B  C\n",
      "A      \n",
      "1  1  0\n",
      "2  3  3\n",
      "3  3  4\n"
     ]
    }
   ],
   "source": [
    "# Compute count of group, excluding missing values\n",
    "\n",
    "def df_groupby_count():\n",
    "    df = pd.DataFrame({'A': [1, 2, 3, 1, 2, 3, 3, 3, 2],\n",
    "                       'B': [0, 1, np.nan, np.nan, 2, 4, 3, 2, np.inf],\n",
    "                       'C': [np.nan, 2, 3, np.nan, 5, 6, 7, 8, 9]})\n",
    "    out_df = df.groupby('A').count()\n",
    "\n",
    "    # Expect DataFrame of\n",
    "    # {'B': [1, 3, 3], 'C': [0, 3, 4} with index=[1, 2, 3]\n",
    "    return out_df\n",
    "\n",
    "\n",
    "print(df_groupby_count())"
   ]
  },
  {
   "cell_type": "code",
   "execution_count": 10,
   "metadata": {},
   "outputs": [
    {
     "name": "stdout",
     "output_type": "stream",
     "text": [
      "     A    B\n",
      "0  NaN  NaN\n",
      "1  NaN  NaN\n",
      "2  3.5 -4.5\n",
      "3  2.5 -4.0\n",
      "4  3.5 -5.5\n"
     ]
    }
   ],
   "source": [
    "# Calculate the rolling quantile\n",
    "\n",
    "def df_rolling_quantile():\n",
    "    df = pd.DataFrame({'A': [4, 3, 5, 2, 6], 'B': [-4, -3, -5, -2, -6]})\n",
    "    out_df = df.rolling(3).quantile(0.25)\n",
    "\n",
    "    # Expect DataFrame of\n",
    "    # {'A': [NaN, NaN, 3.5, 2.5, 3.5], 'B': [NaN, NaN, -4.5, -4.0, -5.5]}\n",
    "    return out_df\n",
    "\n",
    "\n",
    "print(df_rolling_quantile())"
   ]
  },
  {
   "cell_type": "code",
   "execution_count": 11,
   "metadata": {},
   "outputs": [
    {
     "name": "stdout",
     "output_type": "stream",
     "text": [
      "     A    B\n",
      "0  NaN  NaN\n",
      "1  NaN  NaN\n",
      "2  4.0 -4.0\n",
      "3  3.0 -3.0\n",
      "4  5.0 -5.0\n"
     ]
    }
   ],
   "source": [
    "# Calculate the rolling apply\n",
    "\n",
    "def df_rolling_apply():\n",
    "    df = pd.DataFrame({'A': [4, 3, 5, 2, 6], 'B': [-4, -3, -5, -2, -6]})\n",
    "\n",
    "    def get_median(x):\n",
    "        return np.median(x)\n",
    "\n",
    "    out_df = df.rolling(3).apply(get_median)\n",
    "\n",
    "    # Expect DataFrame of\n",
    "    # {'A': [NaN, NaN, 4.0, 3.0, 5.0], 'B': [NaN, NaN, -4.0, -3.0, -5.0]}\n",
    "    return out_df\n",
    "\n",
    "\n",
    "print(df_rolling_apply())"
   ]
  },
  {
   "cell_type": "code",
   "execution_count": 12,
   "metadata": {},
   "outputs": [
    {
     "name": "stdout",
     "output_type": "stream",
     "text": [
      "0         NaN\n",
      "1         NaN\n",
      "2    0.000000\n",
      "3    0.935220\n",
      "4   -1.293343\n",
      "dtype: float64\n"
     ]
    }
   ],
   "source": [
    "# Compute unbiased rolling skewness\n",
    "\n",
    "def series_rolling_skew():\n",
    "    series = pd.Series([4, 3, 5, 2, 6])  # Series of 4, 3, 5, 2, 6\n",
    "    out_series = series.rolling(3).skew()\n",
    "\n",
    "    return out_series  # Expect series of NaN, NaN, 0.000000, 0.935220, -1.293343\n",
    "\n",
    "\n",
    "print(series_rolling_skew())"
   ]
  },
  {
   "cell_type": "code",
   "execution_count": 13,
   "metadata": {},
   "outputs": [
    {
     "name": "stdout",
     "output_type": "stream",
     "text": [
      "          A         B\n",
      "0       NaN       NaN\n",
      "1       NaN       NaN\n",
      "2       NaN       NaN\n",
      "3  0.333333  0.333333\n",
      "4  0.916949  0.916949\n"
     ]
    }
   ],
   "source": [
    "# Calculate rolling correlation\n",
    "\n",
    "def df_rolling_corr():\n",
    "    df = pd.DataFrame({'A': [3, 3, 3, 5, 8], 'B': [-3, -3, -3, -5, -8]})\n",
    "    other = pd.DataFrame({'A': [3, 4, 4, 4, 8], 'B': [-3, -4, -4, -4, -8]})\n",
    "    out_df = df.rolling(4).corr(other)\n",
    "\n",
    "    # Expect DataFrame of\n",
    "    # {'A': [NaN, NaN, NaN, 0.333333, 0.916949],\n",
    "    #  'B': [NaN, NaN, NaN, 0.333333, 0.916949]}\n",
    "    return out_df\n",
    "\n",
    "\n",
    "print(df_rolling_corr())"
   ]
  },
  {
   "cell_type": "code",
   "execution_count": 14,
   "metadata": {},
   "outputs": [
    {
     "name": "stdout",
     "output_type": "stream",
     "text": [
      "0         NaN\n",
      "1         NaN\n",
      "2         NaN\n",
      "3    0.333333\n",
      "4    0.916949\n",
      "dtype: float64\n"
     ]
    }
   ],
   "source": [
    "# Calculate rolling correlation\n",
    "\n",
    "def series_rolling_corr():\n",
    "    series = pd.Series([3, 3, 3, 5, 8])  # Series of 3, 3, 3, 5, 8\n",
    "    other = pd.Series([3, 4, 4, 4, 8])  # Series of 3, 4, 4, 4, 8\n",
    "    out_series = series.rolling(4).corr(other)\n",
    "\n",
    "    return out_series  # Expect series of NaN, NaN, NaN, 0.333333, 0.916949\n",
    "\n",
    "\n",
    "print(series_rolling_corr())"
   ]
  },
  {
   "cell_type": "code",
   "execution_count": 15,
   "metadata": {},
   "outputs": [
    {
     "name": "stdout",
     "output_type": "stream",
     "text": [
      "     A    B\n",
      "0  NaN  NaN\n",
      "1  NaN  NaN\n",
      "2  5.0 -3.0\n",
      "3  5.0 -2.0\n",
      "4  6.0 -2.0\n"
     ]
    }
   ],
   "source": [
    "# Calculate the rolling maximum\n",
    "\n",
    "def df_rolling_max():\n",
    "    df = pd.DataFrame({'A': [4, 3, 5, 2, 6], 'B': [-4, -3, -5, -2, -6]})\n",
    "    out_df = df.rolling(3).max()\n",
    "\n",
    "    # Expect DataFrame of\n",
    "    # {'A': [NaN, NaN, 5.0, 5.0, 6.0], 'B': [NaN, NaN, -3.0, -2.0, -2.0]}\n",
    "    return out_df\n",
    "\n",
    "\n",
    "print(df_rolling_max())"
   ]
  },
  {
   "cell_type": "code",
   "execution_count": 16,
   "metadata": {},
   "outputs": [
    {
     "name": "stdout",
     "output_type": "stream",
     "text": [
      "0    NaN\n",
      "1    NaN\n",
      "2    5.0\n",
      "3    5.0\n",
      "4    6.0\n",
      "dtype: float64\n"
     ]
    }
   ],
   "source": [
    "# Calculate the rolling maximum\n",
    "\n",
    "def series_rolling_max():\n",
    "    series = pd.Series([4, 3, 5, 2, 6])  # Series of 4, 3, 5, 2, 6\n",
    "    out_series = series.rolling(3).max()\n",
    "\n",
    "    return out_series  # Expect series of NaN, NaN, 5.0, 5.0, 6.0\n",
    "\n",
    "\n",
    "print(series_rolling_max())"
   ]
  },
  {
   "cell_type": "code",
   "execution_count": 17,
   "metadata": {},
   "outputs": [
    {
     "ename": "NameError",
     "evalue": "name 'v' is not defined",
     "output_type": "error",
     "traceback": [
      "\u001b[1;31m---------------------------------------------------------------------------\u001b[0m",
      "\u001b[1;31mNameError\u001b[0m                                 Traceback (most recent call last)",
      "\u001b[1;32m<ipython-input-17-361d66014b36>\u001b[0m in \u001b[0;36m<module>\u001b[1;34m\u001b[0m\n\u001b[0;32m      1\u001b[0m \u001b[1;31m# Calculate the rolling minimum\u001b[0m\u001b[1;33m\u001b[0m\u001b[1;33m\u001b[0m\u001b[1;33m\u001b[0m\u001b[0m\n\u001b[0;32m      2\u001b[0m \u001b[1;33m\u001b[0m\u001b[0m\n\u001b[1;32m----> 3\u001b[1;33m \u001b[0mv\u001b[0m\u001b[1;33m\u001b[0m\u001b[1;33m\u001b[0m\u001b[0m\n\u001b[0m",
      "\u001b[1;31mNameError\u001b[0m: name 'v' is not defined"
     ]
    }
   ],
   "source": [
    "# Calculate the rolling minimum\n",
    "\n",
    "v"
   ]
  },
  {
   "cell_type": "code",
   "execution_count": null,
   "metadata": {},
   "outputs": [],
   "source": [
    "# Calculate the rolling minimum\n",
    "\n",
    "def series_rolling_min():\n",
    "    series = pd.Series([4, 3, 5, 2, 6])  # Series of 4, 3, 5, 2, 6\n",
    "    out_series = series.rolling(3).min()\n",
    "\n",
    "    return out_series  # Expect series of NaN, NaN, 3.0, 2.0, 2.0\n",
    "\n",
    "\n",
    "print(series_rolling_min())"
   ]
  },
  {
   "cell_type": "code",
   "execution_count": null,
   "metadata": {},
   "outputs": [],
   "source": [
    "# Calculate rolling standard deviation\n",
    "\n",
    "def df_rolling_std():\n",
    "    df = pd.DataFrame({'A': [4, 3, 5, 2, 6], 'B': [-4, -3, -5, -2, -6]})\n",
    "    out_df = df.rolling(3).std()\n",
    "\n",
    "    # Expect DataFrame of\n",
    "    # {'A': [NaN, NaN, 1.000000, 1.527525, 2.081666],\n",
    "    #  'B': [NaN, NaN, 1.000000, 1.527525, 2.081666]}\n",
    "    return out_df\n",
    "\n",
    "\n",
    "print(df_rolling_std())"
   ]
  },
  {
   "cell_type": "code",
   "execution_count": null,
   "metadata": {},
   "outputs": [],
   "source": [
    "# Calculate rolling standard deviation\n",
    "\n",
    "def series_rolling_std():\n",
    "    series = pd.Series([4, 3, 5, 2, 6])  # Series of 4, 3, 5, 2, 6\n",
    "    out_series = series.rolling(3).std()\n",
    "\n",
    "    return out_series  # Expect series of NaN, NaN, 1.000000, 1.527525, 2.081666\n",
    "\n",
    "\n",
    "print(series_rolling_std())"
   ]
  },
  {
   "cell_type": "code",
   "execution_count": null,
   "metadata": {},
   "outputs": [],
   "source": [
    "# Calculate the rolling mean of the values\n",
    "\n",
    "def df_rolling_mean():\n",
    "    df = pd.DataFrame({'A': [4, 3, 5, 2, 6], 'B': [-4, -3, -5, -2, -6]})\n",
    "    out_df = df.rolling(3).mean()\n",
    "\n",
    "    # Expect DataFrame of\n",
    "    # {'A': [NaN, NaN, 4.000000, 3.333333, 4.333333],\n",
    "    #  'B': [NaN, NaN, -4.000000, -3.333333, -4.333333]}\n",
    "    return out_df\n",
    "\n",
    "\n",
    "print(df_rolling_mean())"
   ]
  },
  {
   "cell_type": "code",
   "execution_count": null,
   "metadata": {},
   "outputs": [],
   "source": [
    "# Calculate rolling sum\n",
    "\n",
    "def df_rolling_sum():\n",
    "    df = pd.DataFrame({'A': [4, 3, 5, 2, 6], 'B': [-4, -3, -5, -2, -6]})\n",
    "    out_df = df.rolling(3).sum()\n",
    "\n",
    "    # Expect DataFrame of\n",
    "    # {'A': [NaN, NaN, 12.0, 10.0, 13.0], 'B': [NaN, NaN, -12.0, -10.0, -13.0]}\n",
    "    return out_df\n",
    "\n",
    "\n",
    "print(df_rolling_sum())"
   ]
  },
  {
   "cell_type": "code",
   "execution_count": null,
   "metadata": {},
   "outputs": [],
   "source": [
    "# Return the first n rows\n",
    "\n",
    "def dataframe_head():\n",
    "    df = pd.DataFrame({'animal': ['alligator', 'bee', 'falcon', 'lion',\n",
    "                                  'monkey', 'parrot', 'shark', 'whale', 'zebra']})\n",
    "\n",
    "    return df.head(n=6)\n",
    "\n",
    "\n",
    "print(dataframe_head())"
   ]
  },
  {
   "cell_type": "code",
   "execution_count": null,
   "metadata": {},
   "outputs": [],
   "source": [
    "# Drop specified columns from DataFrame\n",
    "\n",
    "def dataframe_drop():\n",
    "    df = pd.DataFrame({'A': [1.0, 2.0, 3.0, 1.0], 'B': [4, 5, 6, 7], 'C': ['a', 'b', 'c', 'd']})\n",
    "\n",
    "    return df.drop(columns='A')\n",
    "\n",
    "\n",
    "print(dataframe_drop())"
   ]
  },
  {
   "cell_type": "code",
   "execution_count": null,
   "metadata": {},
   "outputs": [],
   "source": [
    "# Return the sum of the values for the columns\n",
    "\n",
    "def dataframe_sum():\n",
    "    df = pd.DataFrame({\"A\": [.2, .0, .6, .2],\n",
    "                       \"B\": [2, 0, 6, 2],\n",
    "                       \"C\": [-1, np.nan, 1, np.inf]})\n",
    "\n",
    "    return df.sum()\n",
    "\n",
    "\n",
    "print(dataframe_sum())"
   ]
  },
  {
   "cell_type": "code",
   "execution_count": null,
   "metadata": {},
   "outputs": [],
   "source": [
    "# Return the product of the values for the columns\n",
    "\n",
    "def dataframe_prod():\n",
    "    df = pd.DataFrame({\"A\": [.2, .0, .6, .2],\n",
    "                       \"B\": [2, 0, 6, 2],\n",
    "                       \"C\": [-1, np.nan, 1, np.inf]})\n",
    "\n",
    "    return df.prod()\n",
    "\n",
    "\n",
    "print(dataframe_prod())"
   ]
  },
  {
   "cell_type": "code",
   "execution_count": null,
   "metadata": {},
   "outputs": [],
   "source": [
    "# Percentage change between the current and a prior element\n",
    "\n",
    "def dataframe_pct_change():\n",
    "    df = pd.DataFrame({\"A\": [14, 4, 5, 4, 1, 55],\n",
    "                       \"B\": [5, 2, 54, 3, 2, 32],\n",
    "                       \"C\": [20, 20, 7, 21, 8, 5],\n",
    "                       \"D\": [14, 3, 6, 2, 6, 4]})\n",
    "    out_df = df.pct_change()\n",
    "\n",
    "    return out_df\n",
    "\n",
    "\n",
    "print(dataframe_pct_change())"
   ]
  },
  {
   "cell_type": "code",
   "execution_count": null,
   "metadata": {},
   "outputs": [],
   "source": [
    "# Count non-NA cells for each column or row\n",
    "\n",
    "def dataframe_count():\n",
    "    df = pd.DataFrame({\"A\": [.2, .0, .6, .2],\n",
    "                       \"B\": [2, 0, 6, 2],\n",
    "                       \"C\": [-1, np.nan, 1, np.inf]})\n",
    "\n",
    "    return df.count()\n",
    "\n",
    "\n",
    "print(dataframe_count())"
   ]
  },
  {
   "cell_type": "code",
   "execution_count": null,
   "metadata": {},
   "outputs": [],
   "source": [
    "# Groupby and calculate the minimum in each group\n",
    "\n",
    "def df_groupby_min():\n",
    "    df = pd.DataFrame({'A': [1, 2, 3, 1, 2, 3, 3, 3, 2],\n",
    "                       'B': [0, 1, 5, 0, 2, 4, 3, 2, 3],\n",
    "                       'C': [1, 2, 3, 4, 5, 6, 7, 8, 9]})\n",
    "    out_df = df.groupby('A').min()\n",
    "\n",
    "    # Expect DataFrame of\n",
    "    # {'B': [0, 1, 2], 'C': [1, 2, 3} with index=[1, 2, 3]\n",
    "    return out_df\n",
    "\n",
    "\n",
    "print(df_groupby_min())"
   ]
  },
  {
   "cell_type": "code",
   "execution_count": null,
   "metadata": {},
   "outputs": [],
   "source": [
    "# Get value at specified index position\n",
    "\n",
    "def dataframe_iat():\n",
    "    df = pd.DataFrame({'A': [1.0, 2.0, 3.0, 1.0], 'B': [4, 5, 6, 7], 'C': ['a', 'b', 'c', 'd']})\n",
    "\n",
    "    return df.iat[1, 2]  # value b\n",
    "\n",
    "\n",
    "print(dataframe_iat())"
   ]
  },
  {
   "cell_type": "code",
   "execution_count": null,
   "metadata": {},
   "outputs": [],
   "source": [
    "# Return the first n rows\n",
    "\n",
    "def dataframe_head():\n",
    "    df = pd.DataFrame({'animal': ['alligator', 'bee', 'falcon', 'lion',\n",
    "                                  'monkey', 'parrot', 'shark', 'whale', 'zebra']})\n",
    "\n",
    "    return df.head(n=6)\n",
    "\n",
    "\n",
    "print(dataframe_head())"
   ]
  },
  {
   "cell_type": "code",
   "execution_count": null,
   "metadata": {},
   "outputs": [],
   "source": [
    "# Detect missing values\n",
    "\n",
    "def dataframe_isna():\n",
    "    df = pd.DataFrame({'A': [1.0, np.nan, 3.0, 1.0], 'B': [4, 5, 6, 7], 'C': [None, 'b', 'c', 'd']})\n",
    "\n",
    "    return df.isna()\n",
    "\n",
    "\n",
    "print(dataframe_isna())"
   ]
  },
  {
   "cell_type": "code",
   "execution_count": null,
   "metadata": {},
   "outputs": [],
   "source": [
    "# Make a copy of this object’s indices and data\n",
    "\n",
    "def dataframe_copy():\n",
    "    df = pd.DataFrame({'A': [1.0, 2.0, 3.0, 1.0], 'B': [4, 5, 6, 7]})\n",
    "    new_df = df.copy(deep=True)\n",
    "    return new_df\n",
    "\n",
    "\n",
    "print(dataframe_copy())"
   ]
  },
  {
   "cell_type": "code",
   "execution_count": null,
   "metadata": {},
   "outputs": [],
   "source": [
    "# Getting Pandas DataFrame elements where key is series of booleans\n",
    "\n",
    "def dataframe_getitem():\n",
    "    df = pd.DataFrame({'A': [0, 1, 2, 3, 4],\n",
    "                       'B': [1, 2, 3, 4, 5],\n",
    "                       'C': [2, 3, 4, 5, 6]})\n",
    "    val = pd.Series([True, False, True, False, False])\n",
    "\n",
    "    return df[val]\n",
    "\n",
    "\n",
    "print(dataframe_getitem())"
   ]
  },
  {
   "cell_type": "code",
   "execution_count": null,
   "metadata": {},
   "outputs": [],
   "source": [
    "# Getting Pandas DataFrame elements where key is an array of booleans\n",
    "\n",
    "def dataframe_getitem():\n",
    "    df = pd.DataFrame({'A': [0, 1, 2, 3, 4],\n",
    "                       'B': [1, 2, 3, 4, 5],\n",
    "                       'C': [2, 3, 4, 5, 6]})\n",
    "    arr = np.array([False, True, False, False, True])\n",
    "\n",
    "    return df[arr]\n",
    "\n",
    "\n",
    "print(dataframe_getitem())"
   ]
  },
  {
   "cell_type": "code",
   "execution_count": null,
   "metadata": {},
   "outputs": [],
   "source": [
    "# Getting slice of Pandas DataFrame\n",
    "\n",
    "def dataframe_getitem():\n",
    "    df = pd.DataFrame({'A': [0, 1, 2, 3, 4],\n",
    "                       'B': [1, 2, 3, 4, 5],\n",
    "                       'C': [2, 3, 4, 5, 6]})\n",
    "\n",
    "    return df[1:3]\n",
    "\n",
    "\n",
    "print(dataframe_getitem())"
   ]
  },
  {
   "cell_type": "code",
   "execution_count": null,
   "metadata": {},
   "outputs": [],
   "source": [
    "# Getting Pandas DataFrame column where key is a string\n",
    "\n",
    "def dataframe_getitem():\n",
    "    df = pd.DataFrame({'A': [0, 1, 2, 3, 4],\n",
    "                       'B': [1, 2, 3, 4, 5],\n",
    "                       'C': [2, 3, 4, 5, 6]})\n",
    "\n",
    "    return df['A']\n",
    "\n",
    "\n",
    "print(dataframe_getitem())"
   ]
  },
  {
   "cell_type": "code",
   "execution_count": null,
   "metadata": {},
   "outputs": [],
   "source": [
    "# Getting Pandas DataFrame column through getting attribute\n",
    "\n",
    "def dataframe_getitem():\n",
    "    df = pd.DataFrame({'A': [0, 1, 2, 3, 4],\n",
    "                       'B': [1, 2, 3, 4, 5],\n",
    "                       'C': [2, 3, 4, 5, 6]})\n",
    "\n",
    "    return df.C\n",
    "\n",
    "\n",
    "print(dataframe_getitem())"
   ]
  },
  {
   "cell_type": "code",
   "execution_count": 18,
   "metadata": {},
   "outputs": [
    {
     "name": "stdout",
     "output_type": "stream",
     "text": [
      "[[  3  94  31]\n",
      " [ 29 170 115]]\n"
     ]
    }
   ],
   "source": [
    "# Getting The values data of the DataFrame\n",
    "\n",
    "def dataframe_values():\n",
    "    df = pd.DataFrame({'age': [3,  29], 'height': [94, 170], 'weight': [31, 115]})\n",
    "    result = df.values\n",
    "\n",
    "    return result  # Numpy array of dataframe values: array([[3, 94, 31], [29, 170, 115]], dtype=int64)\n",
    "\n",
    "\n",
    "print(dataframe_values())"
   ]
  },
  {
   "cell_type": "code",
   "execution_count": 19,
   "metadata": {},
   "outputs": [
    {
     "name": "stdout",
     "output_type": "stream",
     "text": [
      "Index(['a', 'b'], dtype='object')\n"
     ]
    }
   ],
   "source": [
    "# Getting The index (row labels) of the DataFrame\n",
    "\n",
    "def dataframe_index():\n",
    "    df = pd.DataFrame({'A': [1, 2], 'B': [3, 4]}, index=['a', 'b'])\n",
    "    result = df.index\n",
    "\n",
    "    return result  # Numpy array of index values ['a', 'b']\n",
    "\n",
    "\n",
    "print(dataframe_index())"
   ]
  },
  {
   "cell_type": "code",
   "execution_count": 20,
   "metadata": {},
   "outputs": [
    {
     "name": "stdout",
     "output_type": "stream",
     "text": [
      "0     True\n",
      "1    False\n",
      "2    False\n",
      "3    False\n",
      "dtype: bool\n"
     ]
    }
   ],
   "source": [
    "# Check whether all characters in each string are decimal\n",
    "\n",
    "def series_str_isdecimal():\n",
    "    series = pd.Series(['23', '³', '⅕', ''])\n",
    "    out_series = series.str.isdecimal()\n",
    "\n",
    "    return out_series  # Expect series of True, False, False, False\n",
    "\n",
    "\n",
    "print(series_str_isdecimal())"
   ]
  },
  {
   "cell_type": "code",
   "execution_count": 21,
   "metadata": {},
   "outputs": [
    {
     "name": "stdout",
     "output_type": "stream",
     "text": [
      "0    False\n",
      "1    False\n",
      "2     True\n",
      "3    False\n",
      "dtype: bool\n"
     ]
    }
   ],
   "source": [
    "# Check whether all characters in each string are numeric\n",
    "\n",
    "def series_str_isnumeric():\n",
    "    series = pd.Series(['one', 'one1', '1', ''])\n",
    "    out_series = series.str.isnumeric()\n",
    "\n",
    "    return out_series  # Expect series of False, False, True, False\n",
    "\n",
    "\n",
    "print(series_str_isnumeric())"
   ]
  },
  {
   "cell_type": "code",
   "execution_count": 22,
   "metadata": {},
   "outputs": [
    {
     "name": "stdout",
     "output_type": "stream",
     "text": [
      "0     True\n",
      "1    False\n",
      "2     True\n",
      "dtype: bool\n"
     ]
    }
   ],
   "source": [
    "# Check if each word start with an upper case letter\n",
    "\n",
    "def series_str_istitle():\n",
    "    series = pd.Series(['Cat', 'dog', 'Bird'])\n",
    "    out_series = series.str.istitle()\n",
    "\n",
    "    return out_series  # Expect series of True, False, True\n",
    "\n",
    "\n",
    "print(series_str_istitle())"
   ]
  },
  {
   "cell_type": "code",
   "execution_count": 23,
   "metadata": {},
   "outputs": [
    {
     "name": "stdout",
     "output_type": "stream",
     "text": [
      "0     True\n",
      "1    False\n",
      "2    False\n",
      "dtype: bool\n"
     ]
    }
   ],
   "source": [
    "# Check whether all characters in each string are uppercase\n",
    "\n",
    "def series_str_isupper():\n",
    "    series = pd.Series(['FOO', 'BAr', 'FooBar'])  # Series of 'FOO', 'BAr', 'FooBar'\n",
    "    out_series = series.str.isupper()\n",
    "\n",
    "    return out_series  # Expect series of True, False, False\n",
    "\n",
    "\n",
    "print(series_str_isupper())"
   ]
  },
  {
   "cell_type": "code",
   "execution_count": 24,
   "metadata": {},
   "outputs": [
    {
     "name": "stdout",
     "output_type": "stream",
     "text": [
      "0     True\n",
      "1    False\n",
      "2    False\n",
      "3    False\n",
      "dtype: bool\n"
     ]
    }
   ],
   "source": [
    "# Check if all the characters in the text are whitespaces\n",
    "\n",
    "def series_str_isspace():\n",
    "    series = pd.Series([' ', ' c ', '  b ', '     a     '])\n",
    "    out_series = series.str.isspace()\n",
    "\n",
    "    return out_series  # Expect series of True, False, False, False\n",
    "\n",
    "\n",
    "print(series_str_isspace())"
   ]
  },
  {
   "cell_type": "code",
   "execution_count": 25,
   "metadata": {},
   "outputs": [
    {
     "name": "stdout",
     "output_type": "stream",
     "text": [
      "0     True\n",
      "1     True\n",
      "2    False\n",
      "3    False\n",
      "dtype: bool\n"
     ]
    }
   ],
   "source": [
    "# Check whether all characters in each string in the Series are digits\n",
    "\n",
    "def series_str_isdigit():\n",
    "    series = pd.Series(['23', '³', '⅕', ''])\n",
    "    out_series = series.str.isdigit()\n",
    "\n",
    "    return out_series  # Expect series of True, True, False, False\n",
    "\n",
    "\n",
    "print(series_str_isdigit())"
   ]
  },
  {
   "cell_type": "code",
   "execution_count": 26,
   "metadata": {},
   "outputs": [
    {
     "name": "stdout",
     "output_type": "stream",
     "text": [
      "0    00dog\n",
      "1    00foo\n",
      "2    00bar\n",
      "dtype: object\n"
     ]
    }
   ],
   "source": [
    "# Pad strings in the Series by prepending ‘0’ characters\n",
    "\n",
    "def series_str_zfill():\n",
    "    series = pd.Series(['dog', 'foo', 'bar'])  # Series of 'dog', 'foo', 'bar'\n",
    "    out_series = series.str.zfill(5)\n",
    "\n",
    "    return out_series  # Expect series of '00dog', '00foo', '00bar'\n",
    "\n",
    "\n",
    "print(series_str_zfill())"
   ]
  },
  {
   "cell_type": "code",
   "execution_count": 27,
   "metadata": {},
   "outputs": [
    {
     "name": "stdout",
     "output_type": "stream",
     "text": [
      "0                 LOWER\n",
      "1              CAPITALS\n",
      "2    THIS IS A SENTENCE\n",
      "3              SWAPCASE\n",
      "dtype: object\n"
     ]
    }
   ],
   "source": [
    "# Convert strings in the Series to upper case\n",
    "\n",
    "def series_str_upper():\n",
    "    series = pd.Series(['lower', 'CAPITALS', 'this is a sentence', 'SwApCaSe'])\n",
    "\n",
    "    return series.str.upper()\n",
    "\n",
    "\n",
    "print(series_str_upper())"
   ]
  },
  {
   "cell_type": "code",
   "execution_count": 28,
   "metadata": {},
   "outputs": [
    {
     "name": "stdout",
     "output_type": "stream",
     "text": [
      "0                 Lower\n",
      "1              Capitals\n",
      "2    This Is A Sentence\n",
      "3              Swapcase\n",
      "dtype: object\n"
     ]
    }
   ],
   "source": [
    "# Convert strings in the Series to titlecase\n",
    "\n",
    "def series_str_title():\n",
    "    series = pd.Series(['lower', 'CAPITALS', 'this is a sentence', 'SwApCaSe'])\n",
    "    out_series = series.str.title()\n",
    "\n",
    "    return out_series  # Expect series of 'Lower', 'Capitals', 'This Is A Sentence', 'Swapcase'\n",
    "\n",
    "\n",
    "print(series_str_title())"
   ]
  },
  {
   "cell_type": "code",
   "execution_count": 29,
   "metadata": {},
   "outputs": [
    {
     "name": "stdout",
     "output_type": "stream",
     "text": [
      "0    Ant\n",
      "1    Bee\n",
      "2    Cat\n",
      "dtype: object\n"
     ]
    }
   ],
   "source": [
    "# Remove leading and trailing characters\n",
    "\n",
    "def series_str_strip():\n",
    "    series = pd.Series(['1. Ant.  ', '2. Bee!\\n', '3. Cat?\\t'])\n",
    "\n",
    "    return series.str.strip('123.!? \\n\\t')\n",
    "\n",
    "\n",
    "print(series_str_strip())"
   ]
  },
  {
   "cell_type": "code",
   "execution_count": 30,
   "metadata": {},
   "outputs": [
    {
     "name": "stdout",
     "output_type": "stream",
     "text": [
      "0     True\n",
      "1    False\n",
      "2     True\n",
      "dtype: bool\n"
     ]
    }
   ],
   "source": [
    "# Test if the start of each string element matches a string\n",
    "\n",
    "def series_str_startswith():\n",
    "    series = pd.Series(['foo', 'bar', 'foobar'])  # Series of 'foo', 'bar', 'foobar'\n",
    "    out_series = series.str.startswith('foo')\n",
    "\n",
    "    return out_series  # Expect series of True, False, True\n",
    "\n",
    "\n",
    "print(series_str_startswith())"
   ]
  },
  {
   "cell_type": "code",
   "execution_count": 31,
   "metadata": {},
   "outputs": [
    {
     "name": "stdout",
     "output_type": "stream",
     "text": [
      "0    1. Ant\n",
      "1    2. Bee\n",
      "2    3. Cat\n",
      "dtype: object\n"
     ]
    }
   ],
   "source": [
    "# Remove leading and trailing characters\n",
    "\n",
    "def series_str_rstrip():\n",
    "    series = pd.Series(['1. Ant.  ', '2. Bee!\\n', '3. Cat?\\t'])\n",
    "\n",
    "    return series.str.rstrip('.!? \\n\\t')\n",
    "\n",
    "\n",
    "print(series_str_rstrip())"
   ]
  },
  {
   "cell_type": "code",
   "execution_count": 32,
   "metadata": {},
   "outputs": [
    {
     "name": "stdout",
     "output_type": "stream",
     "text": [
      "0     Ant.  \n",
      "1     Bee!\\n\n",
      "2     Cat?\\t\n",
      "dtype: object\n"
     ]
    }
   ],
   "source": [
    "# Remove leading and trailing characters\n",
    "\n",
    "def series_str_lstrip():\n",
    "    series = pd.Series(['1. Ant.  ', '2. Bee!\\n', '3. Cat?\\t'])\n",
    "\n",
    "    return series.str.lstrip('123.')\n",
    "\n",
    "\n",
    "print(series_str_lstrip())"
   ]
  },
  {
   "cell_type": "code",
   "execution_count": 33,
   "metadata": {},
   "outputs": [
    {
     "name": "stdout",
     "output_type": "stream",
     "text": [
      "0    dog**\n",
      "1    foo**\n",
      "2    bar**\n",
      "dtype: object\n"
     ]
    }
   ],
   "source": [
    "# Filling right side of strings in the Series with an additional character\n",
    "\n",
    "def series_str_ljust():\n",
    "    series = pd.Series(['dog', 'foo', 'bar'])  # Series of 'dog', 'foo', 'bar'\n",
    "    out_series = series.str.ljust(5, '*')\n",
    "\n",
    "    return out_series  # Expect series of 'dog**', 'foo**', 'bar**'\n",
    "\n",
    "\n",
    "print(series_str_ljust())"
   ]
  },
  {
   "cell_type": "code",
   "execution_count": 34,
   "metadata": {},
   "outputs": [
    {
     "name": "stdout",
     "output_type": "stream",
     "text": [
      "0    3\n",
      "1    3\n",
      "2    6\n",
      "dtype: int64\n"
     ]
    }
   ],
   "source": [
    "# Compute the length of each element in the Series\n",
    "\n",
    "def series_str_len():\n",
    "    series = pd.Series(['foo', 'bar', 'foobar'])  # Series of 'foo', 'bar', 'foobar'\n",
    "    out_series = series.str.len()\n",
    "\n",
    "    return out_series  # Expect series of 3, 3, 6\n",
    "\n",
    "\n",
    "print(series_str_len())"
   ]
  },
  {
   "cell_type": "code",
   "execution_count": 35,
   "metadata": {},
   "outputs": [
    {
     "name": "stdout",
     "output_type": "stream",
     "text": [
      "0     NaN\n",
      "1     3.0\n",
      "2   -10.0\n",
      "3     NaN\n",
      "4     0.0\n",
      "dtype: float64\n"
     ]
    }
   ],
   "source": [
    "# Shift index by desired number of periods with an optional time freq\n",
    "\n",
    "def series_shift():\n",
    "    series = pd.Series([3, -10, np.nan, 0, 92])\n",
    "\n",
    "    return series.shift()\n",
    "\n",
    "\n",
    "print(series_shift())"
   ]
  },
  {
   "cell_type": "code",
   "execution_count": 36,
   "metadata": {},
   "outputs": [
    {
     "name": "stdout",
     "output_type": "stream",
     "text": [
      "1   -10.0\n",
      "3     0.0\n",
      "0     3.0\n",
      "4    92.0\n",
      "2     NaN\n",
      "dtype: float64\n"
     ]
    }
   ],
   "source": [
    "# Sort by the values\n",
    "\n",
    "def series_sort_values():\n",
    "    series = pd.Series([3, -10, np.nan, 0, 92])\n",
    "\n",
    "    return series.sort_values()\n",
    "\n",
    "\n",
    "print(series_sort_values())"
   ]
  },
  {
   "cell_type": "code",
   "execution_count": 37,
   "metadata": {},
   "outputs": [
    {
     "name": "stdout",
     "output_type": "stream",
     "text": [
      "0    4.0\n",
      "1    0.0\n",
      "2    2.0\n",
      "3    1.0\n",
      "dtype: float64\n"
     ]
    }
   ],
   "source": [
    "# Fill NA/NaN values using the specified method\n",
    "\n",
    "def series_fillna():\n",
    "    s = pd.Series([4, np.nan, 2, 1])\n",
    "\n",
    "    return s.fillna(0)\n",
    "\n",
    "\n",
    "print(series_fillna())"
   ]
  },
  {
   "cell_type": "code",
   "execution_count": 38,
   "metadata": {},
   "outputs": [
    {
     "name": "stdout",
     "output_type": "stream",
     "text": [
      "0    4.0\n",
      "2    2.0\n",
      "3    1.0\n",
      "dtype: float64\n"
     ]
    }
   ],
   "source": [
    "# Return a new Series with missing values removed\n",
    "\n",
    "def series_dropna():\n",
    "    s = pd.Series([4, np.nan, 2, 1])\n",
    "\n",
    "    return s.dropna()\n",
    "\n",
    "\n",
    "print(series_dropna())"
   ]
  },
  {
   "cell_type": "code",
   "execution_count": 39,
   "metadata": {},
   "outputs": [
    {
     "name": "stdout",
     "output_type": "stream",
     "text": [
      "0    False\n",
      "1     True\n",
      "2    False\n",
      "3    False\n",
      "dtype: bool\n"
     ]
    }
   ],
   "source": [
    "# Detect missing values\n",
    "\n",
    "def series_isna():\n",
    "    s = pd.Series([4, np.nan, 2, 1])\n",
    "\n",
    "    return s.isna()  # Expect series of False, True, False, False\n",
    "\n",
    "\n",
    "print(series_isna())"
   ]
  },
  {
   "cell_type": "code",
   "execution_count": 40,
   "metadata": {},
   "outputs": [
    {
     "name": "stdout",
     "output_type": "stream",
     "text": [
      "4    1\n",
      "1    4\n",
      "dtype: int64\n"
     ]
    }
   ],
   "source": [
    "# Return the elements in the given positional indices along an axis\n",
    "\n",
    "def series_take():\n",
    "    series = pd.Series([5, 4, 3, 2, 1])\n",
    "\n",
    "    return series.take([4, 1])  # Expect series of 4, 1\n",
    "\n",
    "\n",
    "print(series_take())"
   ]
  },
  {
   "cell_type": "code",
   "execution_count": 41,
   "metadata": {},
   "outputs": [
    {
     "name": "stdout",
     "output_type": "stream",
     "text": [
      "0     True\n",
      "1    False\n",
      "2    False\n",
      "3     True\n",
      "dtype: bool\n"
     ]
    }
   ],
   "source": [
    "# Check whether values are contained in Series\n",
    "\n",
    "def series_isin():\n",
    "    s = pd.Series([4, np.nan, 2, 1])\n",
    "\n",
    "    return s.isin([4, 1])  # Expect series of True, False, False, True\n",
    "\n",
    "\n",
    "print(series_isin())"
   ]
  },
  {
   "cell_type": "code",
   "execution_count": 42,
   "metadata": {},
   "outputs": [
    {
     "name": "stdout",
     "output_type": "stream",
     "text": [
      "D\n"
     ]
    }
   ],
   "source": [
    "# Getting the row label of the minimum value\n",
    "\n",
    "def series_idxmin():\n",
    "    s = pd.Series([4, np.nan, 2, 1], index=['A', 'B', 'C', 'D'])\n",
    "\n",
    "    return s.idxmin()  # Expect index of minimum value D\n",
    "\n",
    "\n",
    "print(series_idxmin())"
   ]
  },
  {
   "cell_type": "code",
   "execution_count": 43,
   "metadata": {},
   "outputs": [
    {
     "name": "stdout",
     "output_type": "stream",
     "text": [
      "0    7\n",
      "2    6\n",
      "4    5\n",
      "dtype: int64\n"
     ]
    }
   ],
   "source": [
    "# Getting the first n rows\n",
    "\n",
    "def series_head():\n",
    "    s = pd.Series([7, 6, 5, 4, 3, 2, 1], index=[0, 2, 4, 6, 8, 10, 12])\n",
    "\n",
    "    return s.head(3)\n",
    "\n",
    "\n",
    "print(series_head())"
   ]
  },
  {
   "cell_type": "code",
   "execution_count": 44,
   "metadata": {},
   "outputs": [
    {
     "name": "stdout",
     "output_type": "stream",
     "text": [
      "3.0    2\n",
      "2.0    1\n",
      "4.0    1\n",
      "1.0    1\n",
      "dtype: int64\n"
     ]
    }
   ],
   "source": [
    "# Getting the number of values excluding NaNs\n",
    "\n",
    "def series_value_counts():\n",
    "    s = pd.Series([3, 1, 2, 3, 4, np.nan])\n",
    "    out_series = s.value_counts()\n",
    "\n",
    "    return out_series\n",
    "\n",
    "\n",
    "print(series_value_counts())"
   ]
  },
  {
   "cell_type": "code",
   "execution_count": 45,
   "metadata": {},
   "outputs": [
    {
     "name": "stdout",
     "output_type": "stream",
     "text": [
      "3\n"
     ]
    }
   ],
   "source": [
    "# Return number of unique elements in the object\n",
    "\n",
    "def series_nunique():\n",
    "    series = pd.Series([2, 8, 2, 1])\n",
    "\n",
    "    return series.nunique()  # Expect value: 3\n",
    "\n",
    "\n",
    "print(series_nunique())"
   ]
  },
  {
   "cell_type": "code",
   "execution_count": 46,
   "metadata": {},
   "outputs": [
    {
     "name": "stdout",
     "output_type": "stream",
     "text": [
      "[2 1 3]\n"
     ]
    }
   ],
   "source": [
    "# Getting unique values in Series\n",
    "\n",
    "def series_unique():\n",
    "    s = pd.Series([2, 1, 3, 3])\n",
    "    out_series = s.unique()\n",
    "\n",
    "    return out_series  # Expect array of unique values [1, 2, 3]\n",
    "\n",
    "\n",
    "print(series_unique())"
   ]
  },
  {
   "cell_type": "code",
   "execution_count": 47,
   "metadata": {},
   "outputs": [
    {
     "name": "stdout",
     "output_type": "stream",
     "text": [
      "15\n"
     ]
    }
   ],
   "source": [
    "# Return the sum of the values for the requested axis\n",
    "\n",
    "def series_sum():\n",
    "    series = pd.Series([5, 4, 3, 2, 1])\n",
    "\n",
    "    return series.sum()  # Expect value: 15\n",
    "\n",
    "\n",
    "print(series_sum())"
   ]
  },
  {
   "cell_type": "code",
   "execution_count": 48,
   "metadata": {},
   "outputs": [
    {
     "name": "stdout",
     "output_type": "stream",
     "text": [
      "3.0276503540974917\n"
     ]
    }
   ],
   "source": [
    "# Returns sample standard deviation over Series\n",
    "\n",
    "def series_std():\n",
    "    series = pd.Series(np.arange(10))\n",
    "\n",
    "    return series.std()  # Expect value: 3.0276503540974917\n",
    "\n",
    "\n",
    "print(series_std())"
   ]
  },
  {
   "cell_type": "code",
   "execution_count": 49,
   "metadata": {},
   "outputs": [
    {
     "name": "stdout",
     "output_type": "stream",
     "text": [
      "2.5\n"
     ]
    }
   ],
   "source": [
    "# Computing quantile for the Series\n",
    "\n",
    "def series_quantile():\n",
    "    s = pd.Series([1, 2, 3, 4])\n",
    "    median = .5  # compute median\n",
    "    out_series = s.quantile(median)\n",
    "\n",
    "    return out_series # Expect median value == 2.5\n",
    "\n",
    "\n",
    "print(series_quantile())"
   ]
  },
  {
   "cell_type": "code",
   "execution_count": 50,
   "metadata": {},
   "outputs": [
    {
     "name": "stdout",
     "output_type": "stream",
     "text": [
      "-67.712\n"
     ]
    }
   ],
   "source": [
    "# Return the product of the values\n",
    "\n",
    "def series_prod():\n",
    "    series = pd.Series([3.2, -10, np.nan, 0.23, 9.2])\n",
    "\n",
    "    return series.prod()  # Expect value: -67.712\n",
    "\n",
    "\n",
    "print(series_prod())"
   ]
  },
  {
   "cell_type": "code",
   "execution_count": 56,
   "metadata": {},
   "outputs": [
    {
     "name": "stdout",
     "output_type": "stream",
     "text": [
      "0         NaN\n",
      "1         NaN\n",
      "2   -0.340000\n",
      "3         NaN\n",
      "4    1.787879\n",
      "5         NaN\n",
      "6    0.086957\n",
      "7    0.195652\n",
      "8    0.100000\n",
      "9    0.000000\n",
      "dtype: float64\n"
     ]
    }
   ],
   "source": [
    "# Percentage change between the current and a prior element\n",
    "\n",
    "def series_pct_change():\n",
    "    s = pd.Series([5., 0, 3.3, np.nan, 9.2, 9.2, 10, 11, 11, 11])\n",
    "\n",
    "    return s.pct_change(periods=2, fill_method=None, limit=None, freq=None)\n",
    "\n",
    "\n",
    "print(series_pct_change())"
   ]
  },
  {
   "cell_type": "code",
   "execution_count": 58,
   "metadata": {},
   "outputs": [
    {
     "name": "stdout",
     "output_type": "stream",
     "text": [
      "0    0\n",
      "1    1\n",
      "2    2\n",
      "3    3\n",
      "dtype: int32\n"
     ]
    }
   ],
   "source": [
    "# Returns the smallest n elements\n",
    "\n",
    "def series_nsmallest():\n",
    "    series = pd.Series(np.arange(10))\n",
    "\n",
    "    return series.nsmallest(4)  # Expect series of 0, 1, 2, 3 # vs nlargest\n",
    "\n",
    "\n",
    "print(series_nsmallest())"
   ]
  },
  {
   "cell_type": "code",
   "execution_count": 59,
   "metadata": {},
   "outputs": [
    {
     "name": "stdout",
     "output_type": "stream",
     "text": [
      "2.5\n"
     ]
    }
   ],
   "source": [
    "# Return the median of the values for the requested axis\n",
    "\n",
    "def series_median():\n",
    "    series = pd.Series([1, 2, 3, 4])\n",
    "\n",
    "    return series.median()  # Expect value: 2.5\n",
    "\n",
    "\n",
    "print(series_median())"
   ]
  },
  {
   "cell_type": "code",
   "execution_count": 60,
   "metadata": {},
   "outputs": [
    {
     "name": "stdout",
     "output_type": "stream",
     "text": [
      "0.6575\n"
     ]
    }
   ],
   "source": [
    "# Return the mean of the values\n",
    "\n",
    "def series_mean():\n",
    "    series = pd.Series([3.2, -10, np.nan, 0.23, 9.2])\n",
    "\n",
    "    return series.mean()  # Expect value: 0.6575 # s.max() s.min() etc\n",
    "\n",
    "\n",
    "print(series_mean())"
   ]
  },
  {
   "cell_type": "code",
   "execution_count": 61,
   "metadata": {},
   "outputs": [
    {
     "name": "stdout",
     "output_type": "stream",
     "text": [
      "count    5.000000\n",
      "mean     4.380000\n",
      "std      3.315419\n",
      "min      0.000000\n",
      "25%      3.300000\n",
      "50%      4.400000\n",
      "75%      5.000000\n",
      "max      9.200000\n",
      "dtype: float64\n"
     ]
    }
   ],
   "source": [
    "# Generate descriptive statistics\n",
    "\n",
    "def series_describe():\n",
    "    s = pd.Series([5., 0, 3.3, 4.4, 9.2])\n",
    "\n",
    "    return s.describe()\n",
    "\n",
    "\n",
    "print(series_describe())"
   ]
  },
  {
   "cell_type": "code",
   "execution_count": 62,
   "metadata": {},
   "outputs": [
    {
     "name": "stdout",
     "output_type": "stream",
     "text": [
      "0     1\n",
      "1     3\n",
      "2     6\n",
      "3    10\n",
      "dtype: int64\n"
     ]
    }
   ],
   "source": [
    "# Returns cumulative sum over Series\n",
    "\n",
    "def series_cumsum():\n",
    "    s = pd.Series([1, 2, 3, 4])\n",
    "\n",
    "    return s.cumsum()  # Expect series of 1, 3, 6, 10\n",
    "\n",
    "\n",
    "print(series_cumsum())"
   ]
  },
  {
   "cell_type": "code",
   "execution_count": 63,
   "metadata": {},
   "outputs": [
    {
     "name": "stdout",
     "output_type": "stream",
     "text": [
      "44.63999999999999\n"
     ]
    }
   ],
   "source": [
    "# Compute covariance with Series, excluding missing values\n",
    "\n",
    "def series_cov():\n",
    "    s1 = pd.Series([3.2, -10, np.nan, 0.23, 9.2])\n",
    "    s2 = pd.Series([5., 0, 3.3, np.nan, 9.2])\n",
    "\n",
    "    return s1.cov(s2)  # Expect value: 44.639...\n",
    "\n",
    "\n",
    "print(series_cov())"
   ]
  },
  {
   "cell_type": "code",
   "execution_count": 64,
   "metadata": {},
   "outputs": [
    {
     "name": "stdout",
     "output_type": "stream",
     "text": [
      "2\n"
     ]
    }
   ],
   "source": [
    "# Counting non-NaN values in Series\n",
    "\n",
    "def series_count():\n",
    "    s = pd.Series([1, 2, np.nan])\n",
    "    out_series = s.count()\n",
    "\n",
    "    return out_series  # Expect the number of non-Nan values == '2'\n",
    "\n",
    "\n",
    "print(series_count())"
   ]
  },
  {
   "cell_type": "code",
   "execution_count": 65,
   "metadata": {},
   "outputs": [
    {
     "name": "stdout",
     "output_type": "stream",
     "text": [
      "0.9867362434412108\n"
     ]
    }
   ],
   "source": [
    "# Compute correlation with other Series, excluding missing values\n",
    "\n",
    "def series_corr():\n",
    "    s1 = pd.Series([3.2, -10, np.nan, 0.23, 9.2])\n",
    "    s2 = pd.Series([5., 0, 3.3, np.nan, 9.2])\n",
    "\n",
    "    return s1.corr(s2)  # Expect value: 0.98673...\n",
    "\n",
    "\n",
    "print(series_corr())"
   ]
  },
  {
   "cell_type": "code",
   "execution_count": 66,
   "metadata": {},
   "outputs": [
    {
     "name": "stdout",
     "output_type": "stream",
     "text": [
      "0    1.10\n",
      "1    2.00\n",
      "2    3.33\n",
      "dtype: float64\n"
     ]
    }
   ],
   "source": [
    "# Getting the absolute value of each element in Series\n",
    "\n",
    "def series_abs():\n",
    "    s = pd.Series([-1.10, 2, -3.33])\n",
    "    out_series = s.abs()\n",
    "\n",
    "    return out_series  # Expect series of 1.10, 2.00, 3.33\n",
    "\n",
    "\n",
    "print(series_abs())"
   ]
  },
  {
   "cell_type": "code",
   "execution_count": 67,
   "metadata": {},
   "outputs": [
    {
     "name": "stdout",
     "output_type": "stream",
     "text": [
      "0    NaN\n",
      "1    NaN\n",
      "2    3.0\n",
      "3    2.0\n",
      "4    2.0\n",
      "dtype: float64\n"
     ]
    }
   ],
   "source": [
    "# Calculate the rolling minimum\n",
    "\n",
    "def series_rolling_min():\n",
    "    series = pd.Series([4, 3, 5, 2, 6])  # Series of 4, 3, 5, 2, 6\n",
    "    out_series = series.rolling(3).min()\n",
    "\n",
    "    return out_series  # Expect series of NaN, NaN, 3.0, 2.0, 2.0\n",
    "\n",
    "\n",
    "print(series_rolling_min())"
   ]
  },
  {
   "cell_type": "code",
   "execution_count": 68,
   "metadata": {},
   "outputs": [
    {
     "name": "stdout",
     "output_type": "stream",
     "text": [
      "0    210.0\n",
      "1    185.0\n",
      "dtype: float64\n"
     ]
    }
   ],
   "source": [
    "# Return the mean of the values grouped by numpy array\n",
    "\n",
    "def series_groupby():\n",
    "    S = pd.Series([390., 350., 30., 20.])\n",
    "    by = np.asarray([0, 1, 0, 1])\n",
    "\n",
    "    # Expect Series of pd.Series([210.0, 185.0], index=[0, 1])\n",
    "    return S.groupby(by).mean()\n",
    "\n",
    "\n",
    "print(series_groupby())"
   ]
  },
  {
   "cell_type": "code",
   "execution_count": 69,
   "metadata": {},
   "outputs": [
    {
     "name": "stdout",
     "output_type": "stream",
     "text": [
      "0     1.0\n",
      "1     4.0\n",
      "2     9.0\n",
      "3    16.0\n",
      "4    25.0\n",
      "dtype: float64\n"
     ]
    }
   ],
   "source": [
    "# map() accepts a function\n",
    "\n",
    "def series_map():\n",
    "    s = pd.Series([1., 2., 3., 4., 5.])\n",
    "    return s.map(lambda x: x ** 2)\n",
    "\n",
    "\n",
    "print(series_map())"
   ]
  },
  {
   "cell_type": "code",
   "execution_count": 70,
   "metadata": {},
   "outputs": [
    {
     "name": "stdout",
     "output_type": "stream",
     "text": [
      "London      2.995732\n",
      "New York    3.044522\n",
      "Helsinki    2.484907\n",
      "dtype: float64\n"
     ]
    }
   ],
   "source": [
    "# Use a function from the Numpy library\n",
    "\n",
    "def series_apply():\n",
    "    s = pd.Series([20, 21, 12],\n",
    "                  index=['London', 'New York', 'Helsinki'])\n",
    "\n",
    "    return s.apply(np.log)\n",
    "\n",
    "\n",
    "print(series_apply())"
   ]
  },
  {
   "cell_type": "code",
   "execution_count": 71,
   "metadata": {},
   "outputs": [
    {
     "name": "stdout",
     "output_type": "stream",
     "text": [
      "London      400\n",
      "New York    441\n",
      "Helsinki    144\n",
      "dtype: int64\n"
     ]
    }
   ],
   "source": [
    "# Square the values by passing an anonymous function as an argument to apply().\n",
    "\n",
    "def series_apply():\n",
    "    s = pd.Series([20, 21, 12],\n",
    "                  index=['London', 'New York', 'Helsinki'])\n",
    "\n",
    "    return s.apply(lambda x: x ** 2)\n",
    "\n",
    "\n",
    "print(series_apply())"
   ]
  },
  {
   "cell_type": "code",
   "execution_count": 72,
   "metadata": {},
   "outputs": [
    {
     "name": "stdout",
     "output_type": "stream",
     "text": [
      "London      400\n",
      "New York    441\n",
      "Helsinki    144\n",
      "dtype: int64\n"
     ]
    }
   ],
   "source": [
    "# Square the values by defining a function and passing it as an argument to apply().\n",
    "\n",
    "def series_apply():\n",
    "    s = pd.Series([20, 21, 12],\n",
    "                  index=['London', 'New York', 'Helsinki'])\n",
    "\n",
    "    def square(x):\n",
    "        return x ** 2\n",
    "\n",
    "    return s.apply(square)\n",
    "\n",
    "\n",
    "print(series_apply())"
   ]
  },
  {
   "cell_type": "code",
   "execution_count": 73,
   "metadata": {},
   "outputs": [
    {
     "name": "stdout",
     "output_type": "stream",
     "text": [
      "0    False\n",
      "1    False\n",
      "2     True\n",
      "3    False\n",
      "4    False\n",
      "dtype: bool\n"
     ]
    }
   ],
   "source": [
    "# Element-wise equal of one Series by another (binary operator eq)\n",
    "\n",
    "def series_eq():\n",
    "    s1 = pd.Series([5, 4, 3, 2, 1])\n",
    "    s2 = pd.Series([0, 2, 3, 6, 8])\n",
    "\n",
    "    return s1.eq(s2)  # Expect series of False, False, True, False, False\n",
    "\n",
    "\n",
    "print(series_eq())"
   ]
  },
  {
   "cell_type": "code",
   "execution_count": 74,
   "metadata": {},
   "outputs": [
    {
     "name": "stdout",
     "output_type": "stream",
     "text": [
      "0     True\n",
      "1     True\n",
      "2    False\n",
      "3     True\n",
      "4     True\n",
      "dtype: bool\n"
     ]
    }
   ],
   "source": [
    "# Element-wise not equal of one Series by another (binary operator ne)\n",
    "\n",
    "def series_ne():\n",
    "    s1 = pd.Series([5, 4, 3, 2, 1])\n",
    "    s2 = pd.Series([0, 2, 3, 6, 8])\n",
    "\n",
    "    return s1.ne(s2)  # Expect series of True, True, False, True, True\n",
    "\n",
    "\n",
    "print(series_ne())"
   ]
  },
  {
   "cell_type": "code",
   "execution_count": 75,
   "metadata": {},
   "outputs": [
    {
     "name": "stdout",
     "output_type": "stream",
     "text": [
      "0     True\n",
      "1     True\n",
      "2     True\n",
      "3    False\n",
      "4    False\n",
      "dtype: bool\n"
     ]
    }
   ],
   "source": [
    "# Element-wise greater than or equal of one Series by another (binary operator ge)\n",
    "\n",
    "def series_ge():\n",
    "    s1 = pd.Series([5, 4, 3, 2, 1])\n",
    "    s2 = pd.Series([0, 2, 3, 6, 8])\n",
    "\n",
    "    return s1.ge(s2)  # Expect series of True, True, True, False, False\n",
    "\n",
    "\n",
    "print(series_ge())"
   ]
  },
  {
   "cell_type": "code",
   "execution_count": 76,
   "metadata": {},
   "outputs": [
    {
     "name": "stdout",
     "output_type": "stream",
     "text": [
      "0    False\n",
      "1    False\n",
      "2     True\n",
      "3     True\n",
      "4     True\n",
      "dtype: bool\n"
     ]
    }
   ],
   "source": [
    "# Element-wise less than or equal of one Series by another (binary operator le)\n",
    "\n",
    "def series_le():\n",
    "    s1 = pd.Series([5, 4, 3, 2, 1])\n",
    "    s2 = pd.Series([0, 2, 3, 6, 8])\n",
    "\n",
    "    return s1.le(s2)  # Expect series of False, False, True, True, True\n",
    "\n",
    "\n",
    "print(series_le())"
   ]
  },
  {
   "cell_type": "code",
   "execution_count": null,
   "metadata": {},
   "outputs": [],
   "source": [
    "# Element-wise greater than of one Series by another (binary operator gt)\n",
    "\n",
    "def series_gt():\n",
    "    s1 = pd.Series([5, 4, 3, 2, 1])\n",
    "    s2 = pd.Series([0, 2, 3, 6, 8])\n",
    "\n",
    "    return s1.gt(s2)  # Expect series of True, True, False, False, False\n",
    "\n",
    "\n",
    "print(series_gt())"
   ]
  },
  {
   "cell_type": "code",
   "execution_count": null,
   "metadata": {},
   "outputs": [],
   "source": [
    "# Element-wise less than of one Series by another (binary operator lt)\n",
    "\n",
    "def series_lt():\n",
    "    s1 = pd.Series([5, 4, 3, 2, 1])\n",
    "    s2 = pd.Series([0, 2, 3, 6, 8])\n",
    "\n",
    "    return s1.lt(s2)  # Expect series of False, False, False, True, True\n",
    "\n",
    "\n",
    "print(series_lt())"
   ]
  },
  {
   "cell_type": "code",
   "execution_count": null,
   "metadata": {},
   "outputs": [],
   "source": [
    "# Element-wise power of one Series by another (binary operator pow)\n",
    "\n",
    "def series_pow():\n",
    "    s1 = pd.Series([5, 4, 3, 2, 1])\n",
    "    s2 = pd.Series([0, 2, 3, 6, 8])\n",
    "\n",
    "    return s1.pow(s2)  # Expect series of 1, 16, 27, 64, 1\n",
    "\n",
    "\n",
    "print(series_pow())"
   ]
  },
  {
   "cell_type": "code",
   "execution_count": null,
   "metadata": {},
   "outputs": [],
   "source": [
    "# Return Modulo of series and other, element-wise (binary operator mod)\n",
    "\n",
    "def series_mod():\n",
    "    s1 = pd.Series([5, 4, 3, 2, 1])\n",
    "    s2 = pd.Series([0, 2, 3, 6, 8])\n",
    "\n",
    "    return s1.mod(s2)  # Expect series of 0, 0, 0, 2, 1\n",
    "\n",
    "\n",
    "print(series_mod())"
   ]
  },
  {
   "cell_type": "code",
   "execution_count": null,
   "metadata": {},
   "outputs": [],
   "source": [
    "# Return Integer division of series and other, element-wise (binary operator floordiv)\n",
    "\n",
    "def series_floordiv():\n",
    "    s1 = pd.Series([5, 4, 3, 2, 1])\n",
    "    s2 = pd.Series([0, 2, 3, 6, 8])\n",
    "\n",
    "    return s1.floordiv(s2)  # Expect series of 0, 2, 1, 0, 0\n",
    "\n",
    "\n",
    "print(series_floordiv())"
   ]
  },
  {
   "cell_type": "code",
   "execution_count": null,
   "metadata": {},
   "outputs": [],
   "source": [
    "# Element-wise division of one Series by another (binary operator truediv)\n",
    "\n",
    "def series_truediv():\n",
    "    s1 = pd.Series([1, 2, 4])\n",
    "    s2 = pd.Series([4, 4, 16])\n",
    "    out_series = s1.truediv(s2)\n",
    "\n",
    "    return out_series  # Expect series of 0.25, 0.50, 0.25\n",
    "\n",
    "\n",
    "print(series_truediv())"
   ]
  },
  {
   "cell_type": "code",
   "execution_count": null,
   "metadata": {},
   "outputs": [],
   "source": [
    "# Element-wise division of one Series by another (binary operator div)\n",
    "\n",
    "def series_div():\n",
    "    s1 = pd.Series([1, 2, 4])\n",
    "    s2 = pd.Series([4, 4, 16])\n",
    "    out_series = s1.div(s2)\n",
    "\n",
    "    return out_series  # Expect series of 0.25, 0.50, 0.25\n",
    "\n",
    "\n",
    "print(series_div())"
   ]
  },
  {
   "cell_type": "code",
   "execution_count": null,
   "metadata": {},
   "outputs": [],
   "source": [
    "# Element-wise multiplication of two Series\n",
    "\n",
    "def series_mul():\n",
    "    s1 = pd.Series([1, 3, 100])\n",
    "    s2 = pd.Series([0, 1, 2])\n",
    "    out_series = s1.mul(s2)\n",
    "\n",
    "    return out_series  # Expect series of 0, 3, 200\n",
    "\n",
    "\n",
    "print(series_mul())"
   ]
  },
  {
   "cell_type": "code",
   "execution_count": null,
   "metadata": {},
   "outputs": [],
   "source": [
    "# Return Subtraction of series and other, element-wise (binary operator sub)\n",
    "\n",
    "def series_sub():\n",
    "    s1 = pd.Series([5, 4, 3, 2, 1])\n",
    "    s2 = pd.Series([0, 2, 3, 6, 8])\n",
    "\n",
    "    return s1.sub(s2)  # Expect series of 5, 2, 0, -4, -7\n",
    "\n",
    "\n",
    "print(series_sub())"
   ]
  },
  {
   "cell_type": "code",
   "execution_count": null,
   "metadata": {},
   "outputs": [],
   "source": [
    "# Getting the addition of Series and other\n",
    "\n",
    "def series_add():\n",
    "    s1 = pd.Series([1, 2, 3])\n",
    "    s2 = pd.Series([4, 5, 6])\n",
    "    out_series = s1.add(s2)\n",
    "\n",
    "    return out_series  # Expect series of 5, 7, 9\n",
    "\n",
    "\n",
    "print(series_add())"
   ]
  },
  {
   "cell_type": "code",
   "execution_count": null,
   "metadata": {},
   "outputs": [],
   "source": [
    "# With a slice object\n",
    "\n",
    "def series_iloc_slice():\n",
    "    series = pd.Series([5, 4, 3, 2, 1], index=[0, 2, 4, 6, 8])\n",
    "\n",
    "    return series.iloc[2:4]\n",
    "\n",
    "\n",
    "print(series_iloc_slice())"
   ]
  },
  {
   "cell_type": "code",
   "execution_count": null,
   "metadata": {},
   "outputs": [],
   "source": [
    "# With a scalar integer\n",
    "\n",
    "def series_iloc_value():\n",
    "    series = pd.Series([5, 4, 3, 2, 1], index=[0, 2, 4, 6, 8])\n",
    "\n",
    "    return series.iloc[4]  # Expect value: 1\n",
    "\n",
    "\n",
    "print(series_iloc_value())"
   ]
  },
  {
   "cell_type": "code",
   "execution_count": null,
   "metadata": {},
   "outputs": [],
   "source": [
    "# With a slice object. Returns multiple value\n",
    "\n",
    "def series_loc_slice():\n",
    "    series = pd.Series([5, 4, 3, 2, 1])\n",
    "\n",
    "    return series.loc[1:3]\n",
    "\n",
    "\n",
    "print(series_loc_slice())"
   ]
  },
  {
   "cell_type": "code",
   "execution_count": null,
   "metadata": {},
   "outputs": [],
   "source": [
    "# With a scalar integer. Returns multiple value\n",
    "\n",
    "def series_loc_many_idx():\n",
    "    series = pd.Series([5, 4, 3, 2, 1], index=[0, 2, 0, 6, 0])\n",
    "\n",
    "    return series.loc[0]\n",
    "\n",
    "\n",
    "print(series_loc_many_idx())"
   ]
  },
  {
   "cell_type": "code",
   "execution_count": null,
   "metadata": {},
   "outputs": [],
   "source": [
    "# With a scalar integer. Returns single value\n",
    "\n",
    "def series_loc_value():\n",
    "    series = pd.Series([5, 4, 3, 2, 1], index=[0, 2, 4, 6, 8])\n",
    "\n",
    "    return series.loc[4]\n",
    "\n",
    "\n",
    "print(series_loc_value())"
   ]
  },
  {
   "cell_type": "code",
   "execution_count": null,
   "metadata": {},
   "outputs": [],
   "source": [
    "# Get value at specified index position\n",
    "\n",
    "def series_iat():\n",
    "    series = pd.Series([5, 4, 3, 2, 1], index=[0, 2, 4, 6, 8])\n",
    "\n",
    "    return series.iat[4]  # Expect value: 1\n",
    "\n",
    "\n",
    "print(series_iat())"
   ]
  },
  {
   "cell_type": "code",
   "execution_count": null,
   "metadata": {},
   "outputs": [],
   "source": [
    "# With a scalar integer. Returns multiple value\n",
    "\n",
    "def series_at_many_idx():\n",
    "    series = pd.Series([5, 4, 3, 2, 1], index=[0, 2, 0, 6, 0])\n",
    "\n",
    "    return series.at[0]  # Expect array: [5 3 1]\n",
    "\n",
    "\n",
    "print(series_at_many_idx())"
   ]
  },
  {
   "cell_type": "code",
   "execution_count": null,
   "metadata": {},
   "outputs": [],
   "source": [
    "# With a scalar integer. Returns single value\n",
    "\n",
    "def series_at_value():\n",
    "    series = pd.Series([5, 4, 3, 2, 1], index=[0, 2, 4, 6, 8])\n",
    "\n",
    "    return series.at[4]  # Expect array: [3]\n",
    "\n",
    "\n",
    "print(series_at_value())"
   ]
  },
  {
   "cell_type": "code",
   "execution_count": null,
   "metadata": {},
   "outputs": [],
   "source": [
    "# Make a copy of this object’s indices and data\n",
    "\n",
    "def series_copy():\n",
    "    s1 = pd.Series(np.arange(5))\n",
    "    s2 = s1.copy()\n",
    "\n",
    "    return s2  # Expect new series of 0, 1, 2, 3, 4\n",
    "\n",
    "\n",
    "print(series_copy())"
   ]
  },
  {
   "cell_type": "code",
   "execution_count": null,
   "metadata": {},
   "outputs": [],
   "source": [
    "# Cast a pandas object to a specified dtype dtype\n",
    "\n",
    "def series_astype():\n",
    "    series = pd.Series([3, -10, np.nan, 0, 92])\n",
    "\n",
    "    return series.astype(str)\n",
    "\n",
    "\n",
    "print(series_astype())"
   ]
  },
  {
   "cell_type": "code",
   "execution_count": null,
   "metadata": {},
   "outputs": [],
   "source": [
    "# Setting Pandas Series elements by series\n",
    "\n",
    "def series_setitem():\n",
    "    value = 0\n",
    "    series = pd.Series(np.arange(5, 0, -1))  # Series of 5, 4, 3, 2, 1\n",
    "\n",
    "    indices = pd.Series(np.asarray([1, 3]))\n",
    "    series[indices] = value\n",
    "\n",
    "    return series       # result Series of 5, 0, 3, 0, 1\n",
    "\n",
    "\n",
    "print(series_setitem())"
   ]
  },
  {
   "cell_type": "code",
   "execution_count": null,
   "metadata": {},
   "outputs": [],
   "source": [
    "# Setting Pandas Series elements by slice\n",
    "\n",
    "def series_setitem():\n",
    "    value = 0\n",
    "    series = pd.Series(np.arange(5, 0, -1))  # Series of 5, 4, 3, 2, 1\n",
    "\n",
    "    series[2:5] = value\n",
    "\n",
    "    return series   # result Series of 5, 4, 0, 0, 0\n",
    "\n",
    "\n",
    "print(series_setitem())"
   ]
  },
  {
   "cell_type": "code",
   "execution_count": null,
   "metadata": {},
   "outputs": [],
   "source": [
    "# Getting Pandas Series elements by another Series\n",
    "\n",
    "def series_getitem_series():\n",
    "    series = pd.Series(np.arange(10, 0, -1))  # Series of 10, 9, ..., 1\n",
    "    indices = pd.Series(np.asarray([1, 6, 7, 8, 9]))\n",
    "\n",
    "    return series[indices]  # Accessing series by series\n",
    "\n",
    "\n",
    "print(series_getitem_series())"
   ]
  },
  {
   "cell_type": "code",
   "execution_count": null,
   "metadata": {},
   "outputs": [],
   "source": [
    "# Getting Pandas Series elements by array of booleans\n",
    "\n",
    "def series_getitem_array():\n",
    "    series = pd.Series(np.arange(10, 0, -1))  # Series of 10, 9, ..., 1\n",
    "    array = np.array([True, False, True, True, False] * 2)\n",
    "\n",
    "    return series[array]  # Accessing series by array\n",
    "\n",
    "\n",
    "print(series_getitem_array())"
   ]
  },
  {
   "cell_type": "code",
   "execution_count": null,
   "metadata": {},
   "outputs": [],
   "source": [
    "# Getting Pandas Series elements by slice\n",
    "\n",
    "def series_getitem_slice():\n",
    "    series = pd.Series(np.arange(10, 0, -1))  # Series of 10, 9, ..., 1\n",
    "\n",
    "    return series[3:7]  # Accessing series by slice index\n",
    "\n",
    "\n",
    "print(series_getitem_slice())"
   ]
  },
  {
   "cell_type": "code",
   "execution_count": null,
   "metadata": {},
   "outputs": [],
   "source": [
    "# Getting Pandas Series elements. Returns multiple value\n",
    "\n",
    "def series_getitem_scalar_many_idx():\n",
    "    series = pd.Series([5, 4, 3, 2, 1], index=[0, 2, 0, 6, 0])\n",
    "\n",
    "    return series[0]\n",
    "\n",
    "\n",
    "print(series_getitem_scalar_many_idx())"
   ]
  },
  {
   "cell_type": "code",
   "execution_count": null,
   "metadata": {},
   "outputs": [],
   "source": [
    "# Getting Pandas Series elements. Returns single value\n",
    "\n",
    "def series_getitem_scalar():\n",
    "    series = pd.Series(np.arange(10, 0, -1))  # Series of 10, 9, ..., 1\n",
    "\n",
    "    return series[0]  # Accessing series by scalar index\n",
    "\n",
    "\n",
    "print(series_getitem_scalar()"
   ]
  },
  {
   "cell_type": "code",
   "execution_count": null,
   "metadata": {},
   "outputs": [],
   "source": [
    "# Return the transpose, which is by definition self\n",
    "\n",
    "def series_T():\n",
    "    series = pd.Series(np.arange(5))\n",
    "\n",
    "    return series.T  # Expect array of 0, 1, 2, 3, 4\n",
    "\n",
    "\n",
    "print(series_T())"
   ]
  },
  {
   "cell_type": "code",
   "execution_count": null,
   "metadata": {},
   "outputs": [],
   "source": [
    "# Return the number of elements in the underlying data\n",
    "\n",
    "def series_size():\n",
    "    series = pd.Series(np.arange(10))\n",
    "\n",
    "    return series.size  # Expect value: 10\n",
    "\n",
    "\n",
    "print(series_size())"
   ]
  },
  {
   "cell_type": "code",
   "execution_count": null,
   "metadata": {},
   "outputs": [],
   "source": [
    "# Number of dimensions of the underlying data, by definition 1\n",
    "\n",
    "def series_ndim():\n",
    "    series = pd.Series(np.arange(10))\n",
    "\n",
    "    return series.ndim  # Expect value: 1\n",
    "\n",
    "\n",
    "print(series_ndim())"
   ]
  },
  {
   "cell_type": "code",
   "execution_count": null,
   "metadata": {},
   "outputs": [],
   "source": [
    "# Return a tuple of the shape of the underlying data\n",
    "\n",
    "def series_shape():\n",
    "    series = pd.Series(np.arange(10))\n",
    "\n",
    "    return series.shape  # Expect (10,)\n",
    "\n",
    "\n",
    "print(series_shape())"
   ]
  },
  {
   "cell_type": "code",
   "execution_count": null,
   "metadata": {},
   "outputs": [],
   "source": [
    "# Return Series as ndarray or ndarray-like depending on the dtype\n",
    "\n",
    "def series_values():\n",
    "    series = pd.Series(np.arange(5))\n",
    "\n",
    "    return series.values  # Expect array of 0, 1, 2, 3, 4\n",
    "\n",
    "\n",
    "print(series_values())"
   ]
  },
  {
   "cell_type": "code",
   "execution_count": null,
   "metadata": {},
   "outputs": [],
   "source": [
    "# The index (axis labels) of the Series\n",
    "\n",
    "def series_index():\n",
    "    series = pd.Series(np.arange(5), index=['one', 'two', 'three', 'four', 'five'])\n",
    "\n",
    "    return series.index  # Expect array of 'one' 'two' 'three' 'four' 'five'\n",
    "\n",
    "\n",
    "print(series_index())"
   ]
  },
  {
   "cell_type": "code",
   "execution_count": 80,
   "metadata": {},
   "outputs": [
    {
     "data": {
      "text/html": [
       "<div>\n",
       "<style scoped>\n",
       "    .dataframe tbody tr th:only-of-type {\n",
       "        vertical-align: middle;\n",
       "    }\n",
       "\n",
       "    .dataframe tbody tr th {\n",
       "        vertical-align: top;\n",
       "    }\n",
       "\n",
       "    .dataframe thead th {\n",
       "        text-align: right;\n",
       "    }\n",
       "</style>\n",
       "<table border=\"1\" class=\"dataframe\">\n",
       "  <thead>\n",
       "    <tr style=\"text-align: right;\">\n",
       "      <th></th>\n",
       "      <th>First Name</th>\n",
       "      <th>Gender</th>\n",
       "      <th>Start Date</th>\n",
       "      <th>Last Login Time</th>\n",
       "      <th>Salary</th>\n",
       "      <th>Bonus %</th>\n",
       "      <th>Senior Management</th>\n",
       "      <th>Team</th>\n",
       "    </tr>\n",
       "  </thead>\n",
       "  <tbody>\n",
       "    <tr>\n",
       "      <th>0</th>\n",
       "      <td>Douglas</td>\n",
       "      <td>Male</td>\n",
       "      <td>8/6/1993</td>\n",
       "      <td>12:42 PM</td>\n",
       "      <td>97308</td>\n",
       "      <td>6.945</td>\n",
       "      <td>True</td>\n",
       "      <td>Marketing</td>\n",
       "    </tr>\n",
       "    <tr>\n",
       "      <th>1</th>\n",
       "      <td>Thomas</td>\n",
       "      <td>Male</td>\n",
       "      <td>3/31/1996</td>\n",
       "      <td>6:53 AM</td>\n",
       "      <td>61933</td>\n",
       "      <td>4.170</td>\n",
       "      <td>True</td>\n",
       "      <td>NaN</td>\n",
       "    </tr>\n",
       "    <tr>\n",
       "      <th>2</th>\n",
       "      <td>Maria</td>\n",
       "      <td>Female</td>\n",
       "      <td>4/23/1993</td>\n",
       "      <td>11:17 AM</td>\n",
       "      <td>130590</td>\n",
       "      <td>11.858</td>\n",
       "      <td>False</td>\n",
       "      <td>Finance</td>\n",
       "    </tr>\n",
       "    <tr>\n",
       "      <th>3</th>\n",
       "      <td>Jerry</td>\n",
       "      <td>Male</td>\n",
       "      <td>3/4/2005</td>\n",
       "      <td>1:00 PM</td>\n",
       "      <td>138705</td>\n",
       "      <td>9.340</td>\n",
       "      <td>True</td>\n",
       "      <td>Finance</td>\n",
       "    </tr>\n",
       "    <tr>\n",
       "      <th>4</th>\n",
       "      <td>Larry</td>\n",
       "      <td>Male</td>\n",
       "      <td>1/24/1998</td>\n",
       "      <td>4:47 PM</td>\n",
       "      <td>101004</td>\n",
       "      <td>1.389</td>\n",
       "      <td>True</td>\n",
       "      <td>Client Services</td>\n",
       "    </tr>\n",
       "  </tbody>\n",
       "</table>\n",
       "</div>"
      ],
      "text/plain": [
       "  First Name  Gender Start Date Last Login Time  Salary  Bonus %  \\\n",
       "0    Douglas    Male   8/6/1993        12:42 PM   97308    6.945   \n",
       "1     Thomas    Male  3/31/1996         6:53 AM   61933    4.170   \n",
       "2      Maria  Female  4/23/1993        11:17 AM  130590   11.858   \n",
       "3      Jerry    Male   3/4/2005         1:00 PM  138705    9.340   \n",
       "4      Larry    Male  1/24/1998         4:47 PM  101004    1.389   \n",
       "\n",
       "  Senior Management             Team  \n",
       "0              True        Marketing  \n",
       "1              True              NaN  \n",
       "2             False          Finance  \n",
       "3              True          Finance  \n",
       "4              True  Client Services  "
      ]
     },
     "execution_count": 80,
     "metadata": {},
     "output_type": "execute_result"
    }
   ],
   "source": [
    "FNAME.head()"
   ]
  },
  {
   "cell_type": "code",
   "execution_count": 82,
   "metadata": {},
   "outputs": [
    {
     "ename": "TypeError",
     "evalue": "argument of type 'method' is not iterable",
     "output_type": "error",
     "traceback": [
      "\u001b[1;31m---------------------------------------------------------------------------\u001b[0m",
      "\u001b[1;31mTypeError\u001b[0m                                 Traceback (most recent call last)",
      "\u001b[1;32m<ipython-input-82-0c66f1584548>\u001b[0m in \u001b[0;36m<module>\u001b[1;34m\u001b[0m\n\u001b[0;32m     22\u001b[0m \u001b[1;33m\u001b[0m\u001b[0m\n\u001b[0;32m     23\u001b[0m \u001b[1;31m# Printing names and their average bonus percent, mean_bonus,\u001b[0m\u001b[1;33m\u001b[0m\u001b[1;33m\u001b[0m\u001b[1;33m\u001b[0m\u001b[0m\n\u001b[1;32m---> 24\u001b[1;33m \u001b[0msorted_first_names\u001b[0m \u001b[1;33m=\u001b[0m \u001b[0mget_analyzed_data\u001b[0m\u001b[1;33m(\u001b[0m\u001b[1;33m)\u001b[0m\u001b[1;33m\u001b[0m\u001b[1;33m\u001b[0m\u001b[0m\n\u001b[0m\u001b[0;32m     25\u001b[0m \u001b[0mprint\u001b[0m\u001b[1;33m(\u001b[0m\u001b[0msorted_first_names\u001b[0m\u001b[1;33m)\u001b[0m\u001b[1;33m\u001b[0m\u001b[1;33m\u001b[0m\u001b[0m\n\u001b[0;32m     26\u001b[0m \u001b[0mprint\u001b[0m\u001b[1;33m(\u001b[0m\u001b[1;34m'Average Bonus %:'\u001b[0m\u001b[1;33m,\u001b[0m \u001b[0mmean_bonus\u001b[0m\u001b[1;33m)\u001b[0m\u001b[1;33m\u001b[0m\u001b[1;33m\u001b[0m\u001b[0m\n",
      "\u001b[1;32m<ipython-input-82-0c66f1584548>\u001b[0m in \u001b[0;36mget_analyzed_data\u001b[1;34m()\u001b[0m\n\u001b[0;32m      7\u001b[0m \u001b[1;33m\u001b[0m\u001b[0m\n\u001b[0;32m      8\u001b[0m \u001b[1;32mdef\u001b[0m \u001b[0mget_analyzed_data\u001b[0m\u001b[1;33m(\u001b[0m\u001b[1;33m)\u001b[0m\u001b[1;33m:\u001b[0m\u001b[1;33m\u001b[0m\u001b[1;33m\u001b[0m\u001b[0m\n\u001b[1;32m----> 9\u001b[1;33m     \u001b[0mdf\u001b[0m \u001b[1;33m=\u001b[0m \u001b[0mpd\u001b[0m\u001b[1;33m.\u001b[0m\u001b[0mread_csv\u001b[0m\u001b[1;33m(\u001b[0m\u001b[0mFNAME\u001b[0m\u001b[1;33m)\u001b[0m\u001b[1;33m\u001b[0m\u001b[1;33m\u001b[0m\u001b[0m\n\u001b[0m\u001b[0;32m     10\u001b[0m     \u001b[0ms_bonus\u001b[0m \u001b[1;33m=\u001b[0m \u001b[0mpd\u001b[0m\u001b[1;33m.\u001b[0m\u001b[0mSeries\u001b[0m\u001b[1;33m(\u001b[0m\u001b[0mdf\u001b[0m\u001b[1;33m[\u001b[0m\u001b[1;34m'Bonus %'\u001b[0m\u001b[1;33m]\u001b[0m\u001b[1;33m)\u001b[0m\u001b[1;33m\u001b[0m\u001b[1;33m\u001b[0m\u001b[0m\n\u001b[0;32m     11\u001b[0m     \u001b[0ms_first_name\u001b[0m \u001b[1;33m=\u001b[0m \u001b[0mpd\u001b[0m\u001b[1;33m.\u001b[0m\u001b[0mSeries\u001b[0m\u001b[1;33m(\u001b[0m\u001b[0mdf\u001b[0m\u001b[1;33m[\u001b[0m\u001b[1;34m'First Name'\u001b[0m\u001b[1;33m]\u001b[0m\u001b[1;33m)\u001b[0m\u001b[1;33m\u001b[0m\u001b[1;33m\u001b[0m\u001b[0m\n",
      "\u001b[1;32mC:\\ProgramData\\Anaconda3\\lib\\site-packages\\pandas\\io\\parsers.py\u001b[0m in \u001b[0;36mread_csv\u001b[1;34m(filepath_or_buffer, sep, delimiter, header, names, index_col, usecols, squeeze, prefix, mangle_dupe_cols, dtype, engine, converters, true_values, false_values, skipinitialspace, skiprows, skipfooter, nrows, na_values, keep_default_na, na_filter, verbose, skip_blank_lines, parse_dates, infer_datetime_format, keep_date_col, date_parser, dayfirst, cache_dates, iterator, chunksize, compression, thousands, decimal, lineterminator, quotechar, quoting, doublequote, escapechar, comment, encoding, dialect, error_bad_lines, warn_bad_lines, delim_whitespace, low_memory, memory_map, float_precision, storage_options)\u001b[0m\n\u001b[0;32m    603\u001b[0m     \u001b[0mkwds\u001b[0m\u001b[1;33m.\u001b[0m\u001b[0mupdate\u001b[0m\u001b[1;33m(\u001b[0m\u001b[0mkwds_defaults\u001b[0m\u001b[1;33m)\u001b[0m\u001b[1;33m\u001b[0m\u001b[1;33m\u001b[0m\u001b[0m\n\u001b[0;32m    604\u001b[0m \u001b[1;33m\u001b[0m\u001b[0m\n\u001b[1;32m--> 605\u001b[1;33m     \u001b[1;32mreturn\u001b[0m \u001b[0m_read\u001b[0m\u001b[1;33m(\u001b[0m\u001b[0mfilepath_or_buffer\u001b[0m\u001b[1;33m,\u001b[0m \u001b[0mkwds\u001b[0m\u001b[1;33m)\u001b[0m\u001b[1;33m\u001b[0m\u001b[1;33m\u001b[0m\u001b[0m\n\u001b[0m\u001b[0;32m    606\u001b[0m \u001b[1;33m\u001b[0m\u001b[0m\n\u001b[0;32m    607\u001b[0m \u001b[1;33m\u001b[0m\u001b[0m\n",
      "\u001b[1;32mC:\\ProgramData\\Anaconda3\\lib\\site-packages\\pandas\\io\\parsers.py\u001b[0m in \u001b[0;36m_read\u001b[1;34m(filepath_or_buffer, kwds)\u001b[0m\n\u001b[0;32m    455\u001b[0m \u001b[1;33m\u001b[0m\u001b[0m\n\u001b[0;32m    456\u001b[0m     \u001b[1;31m# Create the parser.\u001b[0m\u001b[1;33m\u001b[0m\u001b[1;33m\u001b[0m\u001b[1;33m\u001b[0m\u001b[0m\n\u001b[1;32m--> 457\u001b[1;33m     \u001b[0mparser\u001b[0m \u001b[1;33m=\u001b[0m \u001b[0mTextFileReader\u001b[0m\u001b[1;33m(\u001b[0m\u001b[0mfilepath_or_buffer\u001b[0m\u001b[1;33m,\u001b[0m \u001b[1;33m**\u001b[0m\u001b[0mkwds\u001b[0m\u001b[1;33m)\u001b[0m\u001b[1;33m\u001b[0m\u001b[1;33m\u001b[0m\u001b[0m\n\u001b[0m\u001b[0;32m    458\u001b[0m \u001b[1;33m\u001b[0m\u001b[0m\n\u001b[0;32m    459\u001b[0m     \u001b[1;32mif\u001b[0m \u001b[0mchunksize\u001b[0m \u001b[1;32mor\u001b[0m \u001b[0miterator\u001b[0m\u001b[1;33m:\u001b[0m\u001b[1;33m\u001b[0m\u001b[1;33m\u001b[0m\u001b[0m\n",
      "\u001b[1;32mC:\\ProgramData\\Anaconda3\\lib\\site-packages\\pandas\\io\\parsers.py\u001b[0m in \u001b[0;36m__init__\u001b[1;34m(self, f, engine, **kwds)\u001b[0m\n\u001b[0;32m    812\u001b[0m             \u001b[0mself\u001b[0m\u001b[1;33m.\u001b[0m\u001b[0moptions\u001b[0m\u001b[1;33m[\u001b[0m\u001b[1;34m\"has_index_names\"\u001b[0m\u001b[1;33m]\u001b[0m \u001b[1;33m=\u001b[0m \u001b[0mkwds\u001b[0m\u001b[1;33m[\u001b[0m\u001b[1;34m\"has_index_names\"\u001b[0m\u001b[1;33m]\u001b[0m\u001b[1;33m\u001b[0m\u001b[1;33m\u001b[0m\u001b[0m\n\u001b[0;32m    813\u001b[0m \u001b[1;33m\u001b[0m\u001b[0m\n\u001b[1;32m--> 814\u001b[1;33m         \u001b[0mself\u001b[0m\u001b[1;33m.\u001b[0m\u001b[0m_engine\u001b[0m \u001b[1;33m=\u001b[0m \u001b[0mself\u001b[0m\u001b[1;33m.\u001b[0m\u001b[0m_make_engine\u001b[0m\u001b[1;33m(\u001b[0m\u001b[0mself\u001b[0m\u001b[1;33m.\u001b[0m\u001b[0mengine\u001b[0m\u001b[1;33m)\u001b[0m\u001b[1;33m\u001b[0m\u001b[1;33m\u001b[0m\u001b[0m\n\u001b[0m\u001b[0;32m    815\u001b[0m \u001b[1;33m\u001b[0m\u001b[0m\n\u001b[0;32m    816\u001b[0m     \u001b[1;32mdef\u001b[0m \u001b[0mclose\u001b[0m\u001b[1;33m(\u001b[0m\u001b[0mself\u001b[0m\u001b[1;33m)\u001b[0m\u001b[1;33m:\u001b[0m\u001b[1;33m\u001b[0m\u001b[1;33m\u001b[0m\u001b[0m\n",
      "\u001b[1;32mC:\\ProgramData\\Anaconda3\\lib\\site-packages\\pandas\\io\\parsers.py\u001b[0m in \u001b[0;36m_make_engine\u001b[1;34m(self, engine)\u001b[0m\n\u001b[0;32m   1043\u001b[0m             )\n\u001b[0;32m   1044\u001b[0m         \u001b[1;31m# error: Too many arguments for \"ParserBase\"\u001b[0m\u001b[1;33m\u001b[0m\u001b[1;33m\u001b[0m\u001b[1;33m\u001b[0m\u001b[0m\n\u001b[1;32m-> 1045\u001b[1;33m         \u001b[1;32mreturn\u001b[0m \u001b[0mmapping\u001b[0m\u001b[1;33m[\u001b[0m\u001b[0mengine\u001b[0m\u001b[1;33m]\u001b[0m\u001b[1;33m(\u001b[0m\u001b[0mself\u001b[0m\u001b[1;33m.\u001b[0m\u001b[0mf\u001b[0m\u001b[1;33m,\u001b[0m \u001b[1;33m**\u001b[0m\u001b[0mself\u001b[0m\u001b[1;33m.\u001b[0m\u001b[0moptions\u001b[0m\u001b[1;33m)\u001b[0m  \u001b[1;31m# type: ignore[call-arg]\u001b[0m\u001b[1;33m\u001b[0m\u001b[1;33m\u001b[0m\u001b[0m\n\u001b[0m\u001b[0;32m   1046\u001b[0m \u001b[1;33m\u001b[0m\u001b[0m\n\u001b[0;32m   1047\u001b[0m     \u001b[1;32mdef\u001b[0m \u001b[0m_failover_to_python\u001b[0m\u001b[1;33m(\u001b[0m\u001b[0mself\u001b[0m\u001b[1;33m)\u001b[0m\u001b[1;33m:\u001b[0m\u001b[1;33m\u001b[0m\u001b[1;33m\u001b[0m\u001b[0m\n",
      "\u001b[1;32mC:\\ProgramData\\Anaconda3\\lib\\site-packages\\pandas\\io\\parsers.py\u001b[0m in \u001b[0;36m__init__\u001b[1;34m(self, src, **kwds)\u001b[0m\n\u001b[0;32m   1860\u001b[0m \u001b[1;33m\u001b[0m\u001b[0m\n\u001b[0;32m   1861\u001b[0m         \u001b[1;31m# open handles\u001b[0m\u001b[1;33m\u001b[0m\u001b[1;33m\u001b[0m\u001b[1;33m\u001b[0m\u001b[0m\n\u001b[1;32m-> 1862\u001b[1;33m         \u001b[0mself\u001b[0m\u001b[1;33m.\u001b[0m\u001b[0m_open_handles\u001b[0m\u001b[1;33m(\u001b[0m\u001b[0msrc\u001b[0m\u001b[1;33m,\u001b[0m \u001b[0mkwds\u001b[0m\u001b[1;33m)\u001b[0m\u001b[1;33m\u001b[0m\u001b[1;33m\u001b[0m\u001b[0m\n\u001b[0m\u001b[0;32m   1863\u001b[0m         \u001b[1;32massert\u001b[0m \u001b[0mself\u001b[0m\u001b[1;33m.\u001b[0m\u001b[0mhandles\u001b[0m \u001b[1;32mis\u001b[0m \u001b[1;32mnot\u001b[0m \u001b[1;32mNone\u001b[0m\u001b[1;33m\u001b[0m\u001b[1;33m\u001b[0m\u001b[0m\n\u001b[0;32m   1864\u001b[0m         \u001b[1;32mfor\u001b[0m \u001b[0mkey\u001b[0m \u001b[1;32min\u001b[0m \u001b[1;33m(\u001b[0m\u001b[1;34m\"storage_options\"\u001b[0m\u001b[1;33m,\u001b[0m \u001b[1;34m\"encoding\"\u001b[0m\u001b[1;33m,\u001b[0m \u001b[1;34m\"memory_map\"\u001b[0m\u001b[1;33m,\u001b[0m \u001b[1;34m\"compression\"\u001b[0m\u001b[1;33m)\u001b[0m\u001b[1;33m:\u001b[0m\u001b[1;33m\u001b[0m\u001b[1;33m\u001b[0m\u001b[0m\n",
      "\u001b[1;32mC:\\ProgramData\\Anaconda3\\lib\\site-packages\\pandas\\io\\parsers.py\u001b[0m in \u001b[0;36m_open_handles\u001b[1;34m(self, src, kwds)\u001b[0m\n\u001b[0;32m   1361\u001b[0m             \u001b[0mcompression\u001b[0m\u001b[1;33m=\u001b[0m\u001b[0mkwds\u001b[0m\u001b[1;33m.\u001b[0m\u001b[0mget\u001b[0m\u001b[1;33m(\u001b[0m\u001b[1;34m\"compression\"\u001b[0m\u001b[1;33m,\u001b[0m \u001b[1;32mNone\u001b[0m\u001b[1;33m)\u001b[0m\u001b[1;33m,\u001b[0m\u001b[1;33m\u001b[0m\u001b[1;33m\u001b[0m\u001b[0m\n\u001b[0;32m   1362\u001b[0m             \u001b[0mmemory_map\u001b[0m\u001b[1;33m=\u001b[0m\u001b[0mkwds\u001b[0m\u001b[1;33m.\u001b[0m\u001b[0mget\u001b[0m\u001b[1;33m(\u001b[0m\u001b[1;34m\"memory_map\"\u001b[0m\u001b[1;33m,\u001b[0m \u001b[1;32mFalse\u001b[0m\u001b[1;33m)\u001b[0m\u001b[1;33m,\u001b[0m\u001b[1;33m\u001b[0m\u001b[1;33m\u001b[0m\u001b[0m\n\u001b[1;32m-> 1363\u001b[1;33m             \u001b[0mstorage_options\u001b[0m\u001b[1;33m=\u001b[0m\u001b[0mkwds\u001b[0m\u001b[1;33m.\u001b[0m\u001b[0mget\u001b[0m\u001b[1;33m(\u001b[0m\u001b[1;34m\"storage_options\"\u001b[0m\u001b[1;33m,\u001b[0m \u001b[1;32mNone\u001b[0m\u001b[1;33m)\u001b[0m\u001b[1;33m,\u001b[0m\u001b[1;33m\u001b[0m\u001b[1;33m\u001b[0m\u001b[0m\n\u001b[0m\u001b[0;32m   1364\u001b[0m         )\n\u001b[0;32m   1365\u001b[0m \u001b[1;33m\u001b[0m\u001b[0m\n",
      "\u001b[1;32mC:\\ProgramData\\Anaconda3\\lib\\site-packages\\pandas\\io\\common.py\u001b[0m in \u001b[0;36mget_handle\u001b[1;34m(path_or_buf, mode, encoding, compression, memory_map, is_text, errors, storage_options)\u001b[0m\n\u001b[0;32m    552\u001b[0m \u001b[1;33m\u001b[0m\u001b[0m\n\u001b[0;32m    553\u001b[0m     \u001b[1;31m# read_csv does not know whether the buffer is opened in binary/text mode\u001b[0m\u001b[1;33m\u001b[0m\u001b[1;33m\u001b[0m\u001b[1;33m\u001b[0m\u001b[0m\n\u001b[1;32m--> 554\u001b[1;33m     \u001b[1;32mif\u001b[0m \u001b[0m_is_binary_mode\u001b[0m\u001b[1;33m(\u001b[0m\u001b[0mpath_or_buf\u001b[0m\u001b[1;33m,\u001b[0m \u001b[0mmode\u001b[0m\u001b[1;33m)\u001b[0m \u001b[1;32mand\u001b[0m \u001b[1;34m\"b\"\u001b[0m \u001b[1;32mnot\u001b[0m \u001b[1;32min\u001b[0m \u001b[0mmode\u001b[0m\u001b[1;33m:\u001b[0m\u001b[1;33m\u001b[0m\u001b[1;33m\u001b[0m\u001b[0m\n\u001b[0m\u001b[0;32m    555\u001b[0m         \u001b[0mmode\u001b[0m \u001b[1;33m+=\u001b[0m \u001b[1;34m\"b\"\u001b[0m\u001b[1;33m\u001b[0m\u001b[1;33m\u001b[0m\u001b[0m\n\u001b[0;32m    556\u001b[0m \u001b[1;33m\u001b[0m\u001b[0m\n",
      "\u001b[1;32mC:\\ProgramData\\Anaconda3\\lib\\site-packages\\pandas\\io\\common.py\u001b[0m in \u001b[0;36m_is_binary_mode\u001b[1;34m(handle, mode)\u001b[0m\n\u001b[0;32m    854\u001b[0m     \u001b[0mbinary_classes\u001b[0m \u001b[1;33m=\u001b[0m \u001b[1;33m(\u001b[0m\u001b[0mBufferedIOBase\u001b[0m\u001b[1;33m,\u001b[0m \u001b[0mRawIOBase\u001b[0m\u001b[1;33m)\u001b[0m\u001b[1;33m\u001b[0m\u001b[1;33m\u001b[0m\u001b[0m\n\u001b[0;32m    855\u001b[0m \u001b[1;33m\u001b[0m\u001b[0m\n\u001b[1;32m--> 856\u001b[1;33m     \u001b[1;32mreturn\u001b[0m \u001b[0misinstance\u001b[0m\u001b[1;33m(\u001b[0m\u001b[0mhandle\u001b[0m\u001b[1;33m,\u001b[0m \u001b[0mbinary_classes\u001b[0m\u001b[1;33m)\u001b[0m \u001b[1;32mor\u001b[0m \u001b[1;34m\"b\"\u001b[0m \u001b[1;32min\u001b[0m \u001b[0mgetattr\u001b[0m\u001b[1;33m(\u001b[0m\u001b[0mhandle\u001b[0m\u001b[1;33m,\u001b[0m \u001b[1;34m\"mode\"\u001b[0m\u001b[1;33m,\u001b[0m \u001b[0mmode\u001b[0m\u001b[1;33m)\u001b[0m\u001b[1;33m\u001b[0m\u001b[1;33m\u001b[0m\u001b[0m\n\u001b[0m",
      "\u001b[1;31mTypeError\u001b[0m: argument of type 'method' is not iterable"
     ]
    }
   ],
   "source": [
    "# Basic workflow in parallel\n",
    "\n",
    "# Dataset for analysis\n",
    "url = \"https://raw.githubusercontent.com/tvelichkovt/Scikit-Learn/main/employees.csv\"\n",
    "FNAME = pd.read_csv(url)\n",
    "FNAME.head()\n",
    "\n",
    "def get_analyzed_data():\n",
    "    df = pd.read_csv(FNAME)\n",
    "    s_bonus = pd.Series(df['Bonus %'])\n",
    "    s_first_name = pd.Series(df['First Name'])\n",
    "\n",
    "    # Use explicit loop to compute the mean. It will be compiled as parallel loop\n",
    "    m = 0.0\n",
    "    for i in prange(s_bonus.size):\n",
    "        m += s_bonus.values[i]\n",
    "    m /= s_bonus.size\n",
    "\n",
    "    names = s_first_name.sort_values()\n",
    "    return m, names\n",
    "\n",
    "\n",
    "# Printing names and their average bonus percent, mean_bonus, \n",
    "sorted_first_names = get_analyzed_data()\n",
    "print(sorted_first_names)\n",
    "print('Average Bonus %:', mean_bonus)"
   ]
  },
  {
   "cell_type": "code",
   "execution_count": null,
   "metadata": {},
   "outputs": [],
   "source": [
    "# Compute min of group values\n",
    "\n",
    "#https://intelpython.github.io/sdc-doc/latest/examples.html"
   ]
  },
  {
   "cell_type": "code",
   "execution_count": null,
   "metadata": {},
   "outputs": [],
   "source": [
    "# Compute min of group values\n",
    "\n"
   ]
  },
  {
   "cell_type": "code",
   "execution_count": null,
   "metadata": {},
   "outputs": [],
   "source": [
    "# Compute min of group values\n",
    "\n"
   ]
  },
  {
   "cell_type": "code",
   "execution_count": null,
   "metadata": {},
   "outputs": [],
   "source": [
    "# Compute min of group values\n",
    "\n"
   ]
  },
  {
   "cell_type": "code",
   "execution_count": null,
   "metadata": {},
   "outputs": [],
   "source": [
    "# Compute min of group values\n",
    "\n"
   ]
  },
  {
   "cell_type": "code",
   "execution_count": null,
   "metadata": {},
   "outputs": [],
   "source": [
    "# Compute min of group values\n",
    "\n"
   ]
  },
  {
   "cell_type": "code",
   "execution_count": null,
   "metadata": {},
   "outputs": [],
   "source": [
    "# Compute min of group values\n",
    "\n"
   ]
  },
  {
   "cell_type": "code",
   "execution_count": null,
   "metadata": {},
   "outputs": [],
   "source": [
    "# Compute min of group values\n",
    "\n"
   ]
  },
  {
   "cell_type": "code",
   "execution_count": null,
   "metadata": {},
   "outputs": [],
   "source": [
    "# Compute min of group values\n",
    "\n"
   ]
  },
  {
   "cell_type": "code",
   "execution_count": null,
   "metadata": {},
   "outputs": [],
   "source": [
    "# Compute min of group values\n",
    "\n"
   ]
  },
  {
   "cell_type": "code",
   "execution_count": null,
   "metadata": {},
   "outputs": [],
   "source": [
    "# Compute min of group values\n",
    "\n"
   ]
  },
  {
   "cell_type": "code",
   "execution_count": null,
   "metadata": {},
   "outputs": [],
   "source": [
    "# Compute min of group values\n",
    "\n"
   ]
  },
  {
   "cell_type": "code",
   "execution_count": null,
   "metadata": {},
   "outputs": [],
   "source": [
    "# Compute min of group values\n",
    "\n"
   ]
  },
  {
   "cell_type": "code",
   "execution_count": null,
   "metadata": {},
   "outputs": [],
   "source": [
    "# Compute min of group values\n",
    "\n"
   ]
  },
  {
   "cell_type": "code",
   "execution_count": null,
   "metadata": {},
   "outputs": [],
   "source": [
    "# Compute min of group values\n",
    "\n"
   ]
  },
  {
   "cell_type": "code",
   "execution_count": null,
   "metadata": {},
   "outputs": [],
   "source": [
    "# Compute min of group values\n",
    "\n"
   ]
  },
  {
   "cell_type": "code",
   "execution_count": null,
   "metadata": {},
   "outputs": [],
   "source": [
    "# Compute min of group values\n",
    "\n"
   ]
  },
  {
   "cell_type": "code",
   "execution_count": null,
   "metadata": {},
   "outputs": [],
   "source": [
    "# Compute min of group values\n",
    "\n"
   ]
  },
  {
   "cell_type": "code",
   "execution_count": null,
   "metadata": {},
   "outputs": [],
   "source": [
    "# Compute min of group values\n",
    "\n"
   ]
  },
  {
   "cell_type": "code",
   "execution_count": null,
   "metadata": {},
   "outputs": [],
   "source": [
    "# Compute min of group values\n",
    "\n"
   ]
  },
  {
   "cell_type": "code",
   "execution_count": null,
   "metadata": {},
   "outputs": [],
   "source": [
    "# Compute min of group values\n",
    "\n"
   ]
  },
  {
   "cell_type": "code",
   "execution_count": null,
   "metadata": {},
   "outputs": [],
   "source": [
    "# Compute min of group values\n",
    "\n"
   ]
  },
  {
   "cell_type": "code",
   "execution_count": null,
   "metadata": {},
   "outputs": [],
   "source": [
    "# Compute min of group values\n",
    "\n"
   ]
  },
  {
   "cell_type": "code",
   "execution_count": null,
   "metadata": {},
   "outputs": [],
   "source": [
    "# Compute min of group values\n",
    "\n"
   ]
  },
  {
   "cell_type": "code",
   "execution_count": null,
   "metadata": {},
   "outputs": [],
   "source": [
    "# Compute min of group values\n",
    "\n"
   ]
  },
  {
   "cell_type": "code",
   "execution_count": null,
   "metadata": {},
   "outputs": [],
   "source": [
    "# Compute min of group values\n",
    "\n"
   ]
  },
  {
   "cell_type": "code",
   "execution_count": null,
   "metadata": {},
   "outputs": [],
   "source": [
    "# Compute min of group values\n",
    "\n"
   ]
  },
  {
   "cell_type": "code",
   "execution_count": null,
   "metadata": {},
   "outputs": [],
   "source": [
    "# Compute min of group values\n",
    "\n"
   ]
  },
  {
   "cell_type": "code",
   "execution_count": null,
   "metadata": {},
   "outputs": [],
   "source": [
    "# Compute min of group values\n",
    "\n"
   ]
  },
  {
   "cell_type": "code",
   "execution_count": null,
   "metadata": {},
   "outputs": [],
   "source": [
    "# Compute min of group values\n",
    "\n"
   ]
  },
  {
   "cell_type": "code",
   "execution_count": null,
   "metadata": {},
   "outputs": [],
   "source": [
    "# Compute min of group values\n",
    "\n"
   ]
  },
  {
   "cell_type": "code",
   "execution_count": null,
   "metadata": {},
   "outputs": [],
   "source": [
    "# Compute min of group values\n",
    "\n"
   ]
  },
  {
   "cell_type": "code",
   "execution_count": null,
   "metadata": {},
   "outputs": [],
   "source": [
    "# Compute min of group values\n",
    "\n",
    "# Compute min of group values\n",
    "\n",
    "# Compute min of group values\n",
    "\n",
    "# Compute min of group values\n",
    "\n",
    "# Compute min of group values\n",
    "\n",
    "# Compute min of group values\n",
    "\n",
    "# Compute min of group values\n",
    "\n",
    "# Compute min of group values\n",
    "\n",
    "# Compute min of group values\n",
    "\n",
    "# Compute min of group values\n",
    "\n",
    "# Compute min of group values\n",
    "\n",
    "# Compute min of group values\n",
    "\n",
    "# Compute min of group values\n",
    "\n",
    "# Compute min of group values\n",
    "\n",
    "# Compute min of group values\n",
    "\n",
    "# Compute min of group values\n",
    "\n",
    "# Compute min of group values\n",
    "\n",
    "# Compute min of group values\n",
    "\n",
    "# Compute min of group values\n",
    "\n",
    "# Compute min of group values\n",
    "\n",
    "# Compute min of group values\n",
    "\n",
    "# Compute min of group values\n",
    "\n",
    "# Compute min of group values\n",
    "\n",
    "# Compute min of group values\n",
    "\n",
    "# Compute min of group values\n",
    "\n",
    "# Compute min of group values\n",
    "\n",
    "def dataframe_head():\n",
    "    df = pd.DataFrame({'animal': ['alligator', 'bee', 'falcon', 'lion',\n",
    "                                  'monkey', 'parrot', 'shark', 'whale', 'zebra']})\n",
    "\n",
    "    return df.head(n=6)\n",
    "\n",
    "\n",
    "print(dataframe_head())def dataframe_head():\n",
    "    df = pd.DataFrame({'animal': ['alligator', 'bee', 'falcon', 'lion',\n",
    "                                  'monkey', 'parrot', 'shark', 'whale', 'zebra']})\n",
    "\n",
    "    return df.head(n=6)\n",
    "\n",
    "\n",
    "print(dataframe_head())"
   ]
  }
 ],
 "metadata": {
  "kernelspec": {
   "display_name": "Python 3",
   "language": "python",
   "name": "python3"
  },
  "language_info": {
   "codemirror_mode": {
    "name": "ipython",
    "version": 3
   },
   "file_extension": ".py",
   "mimetype": "text/x-python",
   "name": "python",
   "nbconvert_exporter": "python",
   "pygments_lexer": "ipython3",
   "version": "3.7.6"
  },
  "varInspector": {
   "cols": {
    "lenName": 16,
    "lenType": 16,
    "lenVar": 40
   },
   "kernels_config": {
    "python": {
     "delete_cmd_postfix": "",
     "delete_cmd_prefix": "del ",
     "library": "var_list.py",
     "varRefreshCmd": "print(var_dic_list())"
    },
    "r": {
     "delete_cmd_postfix": ") ",
     "delete_cmd_prefix": "rm(",
     "library": "var_list.r",
     "varRefreshCmd": "cat(var_dic_list()) "
    }
   },
   "types_to_exclude": [
    "module",
    "function",
    "builtin_function_or_method",
    "instance",
    "_Feature"
   ],
   "window_display": false
  }
 },
 "nbformat": 4,
 "nbformat_minor": 4
}
