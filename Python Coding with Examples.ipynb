{
 "cells": [
  {
   "cell_type": "code",
   "execution_count": 13,
   "metadata": {},
   "outputs": [
    {
     "name": "stdout",
     "output_type": "stream",
     "text": [
      "          B          C\n",
      "A                     \n",
      "1  0.000000   4.500000\n",
      "2  1.000000  12.333333\n",
      "3  1.666667   4.666667\n"
     ]
    }
   ],
   "source": [
    "# Compute variance of groups, excluding missing values\n",
    "\n",
    "import pandas as pd\n",
    "import numpy as np\n",
    "\n",
    "\n",
    "\n",
    "def df_groupby_var():\n",
    "    df = pd.DataFrame({'A': [1, 2, 3, 1, 2, 3, 3, 3, 2],\n",
    "                       'B': [0, 1, 5, 0, 2, 4, 3, 2, 3],\n",
    "                       'C': [1, 2, 3, 4, 5, 6, 7, 8, 9]})\n",
    "    out_df = df.groupby('A').var()\n",
    "\n",
    "    # Expect DataFrame of\n",
    "    # {'B': [0.000000, 1.000000, 1.666667], 'C': [4.500000, 12.333333, 4.666667} with index=[1, 2, 3]\n",
    "    return out_df\n",
    "\n",
    "\n",
    "print(df_groupby_var())"
   ]
  },
  {
   "cell_type": "code",
   "execution_count": 4,
   "metadata": {},
   "outputs": [
    {
     "name": "stdout",
     "output_type": "stream",
     "text": [
      "    B   C\n",
      "A        \n",
      "1   0   5\n",
      "2   6  16\n",
      "3  14  24\n"
     ]
    }
   ],
   "source": [
    "# Compute sum of groups, excluding missing values\n",
    "\n",
    "def df_groupby_sum():\n",
    "    df = pd.DataFrame({'A': [1, 2, 3, 1, 2, 3, 3, 3, 2],\n",
    "                       'B': [0, 1, 5, 0, 2, 4, 3, 2, 3],\n",
    "                       'C': [1, 2, 3, 4, 5, 6, 7, 8, 9]})\n",
    "    out_df = df.groupby('A').sum()\n",
    "\n",
    "    # Expect DataFrame of\n",
    "    # {'B': [0, 6, 14], 'C': [5, 16, 24} with index=[1, 2, 3]\n",
    "    return out_df\n",
    "\n",
    "\n",
    "print(df_groupby_sum())"
   ]
  },
  {
   "cell_type": "code",
   "execution_count": 5,
   "metadata": {},
   "outputs": [
    {
     "name": "stdout",
     "output_type": "stream",
     "text": [
      "          B         C\n",
      "A                    \n",
      "1  0.000000  2.121320\n",
      "2  1.000000  3.511885\n",
      "3  1.290994  2.160247\n"
     ]
    }
   ],
   "source": [
    "# Compute standard deviation of groups, excluding missing values\n",
    "\n",
    "def df_groupby_std():\n",
    "    df = pd.DataFrame({'A': [1, 2, 3, 1, 2, 3, 3, 3, 2],\n",
    "                       'B': [0, 1, 5, 0, 2, 4, 3, 2, 3],\n",
    "                       'C': [1, 2, 3, 4, 5, 6, 7, 8, 9]})\n",
    "    out_df = df.groupby('A').std()\n",
    "\n",
    "    # Expect DataFrame of\n",
    "    # {'B': [0.000000, 1.000000, 1.290994], 'C': [2.121320, 3.511885, 2.160247} with index=[1, 2, 3]\n",
    "    return out_df\n",
    "\n",
    "\n",
    "print(df_groupby_std())"
   ]
  },
  {
   "cell_type": "code",
   "execution_count": 6,
   "metadata": {},
   "outputs": [
    {
     "name": "stdout",
     "output_type": "stream",
     "text": [
      "     B     C\n",
      "A           \n",
      "1    0     4\n",
      "2    6    90\n",
      "3  120  1008\n"
     ]
    }
   ],
   "source": [
    "# Compute prod of group values\n",
    "\n",
    "def df_groupby_prod():\n",
    "    df = pd.DataFrame({'A': [1, 2, 3, 1, 2, 3, 3, 3, 2],\n",
    "                       'B': [0, 1, 5, 0, 2, 4, 3, 2, 3],\n",
    "                       'C': [1, 2, 3, 4, 5, 6, 7, 8, 9]})\n",
    "    out_df = df.groupby('A').prod()\n",
    "\n",
    "    # Expect DataFrame of\n",
    "    # {'B': [0, 6, 120], 'C': [4, 90, 1008} with index=[1, 2, 3]\n",
    "    return out_df\n",
    "\n",
    "\n",
    "print(df_groupby_prod())"
   ]
  },
  {
   "cell_type": "code",
   "execution_count": 7,
   "metadata": {},
   "outputs": [
    {
     "name": "stdout",
     "output_type": "stream",
     "text": [
      "   B  C\n",
      "A      \n",
      "1  0  1\n",
      "2  1  2\n",
      "3  2  3\n"
     ]
    }
   ],
   "source": [
    "# Compute min of group values\n",
    "\n",
    "def df_groupby_min():\n",
    "    df = pd.DataFrame({'A': [1, 2, 3, 1, 2, 3, 3, 3, 2],\n",
    "                       'B': [0, 1, 5, 0, 2, 4, 3, 2, 3],\n",
    "                       'C': [1, 2, 3, 4, 5, 6, 7, 8, 9]})\n",
    "    out_df = df.groupby('A').min()\n",
    "\n",
    "    # Expect DataFrame of\n",
    "    # {'B': [0, 1, 2], 'C': [1, 2, 3} with index=[1, 2, 3]\n",
    "    return out_df\n",
    "\n",
    "\n",
    "print(df_groupby_min())"
   ]
  },
  {
   "cell_type": "code",
   "execution_count": 8,
   "metadata": {},
   "outputs": [
    {
     "name": "stdout",
     "output_type": "stream",
     "text": [
      "     B    C\n",
      "A          \n",
      "1  0.0  2.5\n",
      "2  3.0  5.0\n",
      "3  3.5  6.5\n"
     ]
    }
   ],
   "source": [
    "# Compute median of groups, excluding missing values\n",
    "\n",
    "def df_groupby_median():\n",
    "    df = pd.DataFrame({'A': [1, 2, 3, 1, 2, 3, 3, 3, 2],\n",
    "                       'B': [0, 1, 5, 0, 3, 4, 3, 2, 4],\n",
    "                       'C': [1, 2, 3, 4, 5, 6, 7, 8, 9]})\n",
    "    out_df = df.groupby('A').median()\n",
    "\n",
    "    # Expect DataFrame of\n",
    "    # {'B': [0.0, 3.0, 3.5], 'C': [2.5, 5.0, 6.5} with index=[1, 2, 3]\n",
    "    return out_df\n",
    "\n",
    "\n",
    "print(df_groupby_median())"
   ]
  },
  {
   "cell_type": "code",
   "execution_count": 9,
   "metadata": {},
   "outputs": [
    {
     "name": "stdout",
     "output_type": "stream",
     "text": [
      "     B         C\n",
      "A               \n",
      "1  0.0  2.500000\n",
      "2  2.0  5.333333\n",
      "3  3.5  6.000000\n"
     ]
    }
   ],
   "source": [
    "# Compute mean of groups, excluding missing values\n",
    "\n",
    "def df_groupby_mean():\n",
    "    df = pd.DataFrame({'A': [1, 2, 3, 1, 2, 3, 3, 3, 2],\n",
    "                       'B': [0, 1, 5, 0, 2, 4, 3, 2, 3],\n",
    "                       'C': [1, 2, 3, 4, 5, 6, 7, 8, 9]})\n",
    "    out_df = df.groupby('A').mean()\n",
    "\n",
    "    # Expect DataFrame of\n",
    "    # {'B': [0.0, 2.0, 3.5], 'C': [2.500000, 5.333333, 6.000000} with index=[1, 2, 3]\n",
    "    return out_df\n",
    "\n",
    "\n",
    "print(df_groupby_mean())"
   ]
  },
  {
   "cell_type": "code",
   "execution_count": 10,
   "metadata": {},
   "outputs": [
    {
     "name": "stdout",
     "output_type": "stream",
     "text": [
      "   B  C\n",
      "A      \n",
      "1  0  4\n",
      "2  3  9\n",
      "3  5  8\n"
     ]
    }
   ],
   "source": [
    "# Compute max of group values\n",
    "\n",
    "def df_groupby_max():\n",
    "    df = pd.DataFrame({'A': [1, 2, 3, 1, 2, 3, 3, 3, 2],\n",
    "                       'B': [0, 1, 5, 0, 2, 4, 3, 2, 3],\n",
    "                       'C': [1, 2, 3, 4, 5, 6, 7, 8, 9]})\n",
    "    out_df = df.groupby('A').max()\n",
    "\n",
    "    # Expect DataFrame of\n",
    "    # {'B': [0, 3, 5], 'C': [4, 9, 8} with index=[1, 2, 3]\n",
    "    return out_df\n",
    "\n",
    "\n",
    "print(df_groupby_max())"
   ]
  },
  {
   "cell_type": "code",
   "execution_count": 11,
   "metadata": {},
   "outputs": [
    {
     "name": "stdout",
     "output_type": "stream",
     "text": [
      "   B  C\n",
      "A      \n",
      "1  1  0\n",
      "2  3  3\n",
      "3  3  4\n"
     ]
    }
   ],
   "source": [
    "# Compute count of group, excluding missing values\n",
    "\n",
    "def df_groupby_count():\n",
    "    df = pd.DataFrame({'A': [1, 2, 3, 1, 2, 3, 3, 3, 2],\n",
    "                       'B': [0, 1, np.nan, np.nan, 2, 4, 3, 2, np.inf],\n",
    "                       'C': [np.nan, 2, 3, np.nan, 5, 6, 7, 8, 9]})\n",
    "    out_df = df.groupby('A').count()\n",
    "\n",
    "    # Expect DataFrame of\n",
    "    # {'B': [1, 3, 3], 'C': [0, 3, 4} with index=[1, 2, 3]\n",
    "    return out_df\n",
    "\n",
    "\n",
    "print(df_groupby_count())"
   ]
  },
  {
   "cell_type": "code",
   "execution_count": 12,
   "metadata": {},
   "outputs": [
    {
     "name": "stdout",
     "output_type": "stream",
     "text": [
      "     A    B\n",
      "0  NaN  NaN\n",
      "1  NaN  NaN\n",
      "2  3.5 -4.5\n",
      "3  2.5 -4.0\n",
      "4  3.5 -5.5\n"
     ]
    }
   ],
   "source": [
    "# Calculate the rolling quantile\n",
    "\n",
    "def df_rolling_quantile():\n",
    "    df = pd.DataFrame({'A': [4, 3, 5, 2, 6], 'B': [-4, -3, -5, -2, -6]})\n",
    "    out_df = df.rolling(3).quantile(0.25)\n",
    "\n",
    "    # Expect DataFrame of\n",
    "    # {'A': [NaN, NaN, 3.5, 2.5, 3.5], 'B': [NaN, NaN, -4.5, -4.0, -5.5]}\n",
    "    return out_df\n",
    "\n",
    "\n",
    "print(df_rolling_quantile())"
   ]
  },
  {
   "cell_type": "code",
   "execution_count": 14,
   "metadata": {},
   "outputs": [
    {
     "name": "stdout",
     "output_type": "stream",
     "text": [
      "     A    B\n",
      "0  NaN  NaN\n",
      "1  NaN  NaN\n",
      "2  4.0 -4.0\n",
      "3  3.0 -3.0\n",
      "4  5.0 -5.0\n"
     ]
    }
   ],
   "source": [
    "# Calculate the rolling apply\n",
    "\n",
    "def df_rolling_apply():\n",
    "    df = pd.DataFrame({'A': [4, 3, 5, 2, 6], 'B': [-4, -3, -5, -2, -6]})\n",
    "\n",
    "    def get_median(x):\n",
    "        return np.median(x)\n",
    "\n",
    "    out_df = df.rolling(3).apply(get_median)\n",
    "\n",
    "    # Expect DataFrame of\n",
    "    # {'A': [NaN, NaN, 4.0, 3.0, 5.0], 'B': [NaN, NaN, -4.0, -3.0, -5.0]}\n",
    "    return out_df\n",
    "\n",
    "\n",
    "print(df_rolling_apply())"
   ]
  },
  {
   "cell_type": "code",
   "execution_count": 15,
   "metadata": {},
   "outputs": [
    {
     "name": "stdout",
     "output_type": "stream",
     "text": [
      "0         NaN\n",
      "1         NaN\n",
      "2    0.000000\n",
      "3    0.935220\n",
      "4   -1.293343\n",
      "dtype: float64\n"
     ]
    }
   ],
   "source": [
    "# Compute unbiased rolling skewness\n",
    "\n",
    "def series_rolling_skew():\n",
    "    series = pd.Series([4, 3, 5, 2, 6])  # Series of 4, 3, 5, 2, 6\n",
    "    out_series = series.rolling(3).skew()\n",
    "\n",
    "    return out_series  # Expect series of NaN, NaN, 0.000000, 0.935220, -1.293343\n",
    "\n",
    "\n",
    "print(series_rolling_skew())"
   ]
  },
  {
   "cell_type": "code",
   "execution_count": 16,
   "metadata": {},
   "outputs": [
    {
     "name": "stdout",
     "output_type": "stream",
     "text": [
      "          A         B\n",
      "0       NaN       NaN\n",
      "1       NaN       NaN\n",
      "2       NaN       NaN\n",
      "3  0.333333  0.333333\n",
      "4  0.916949  0.916949\n"
     ]
    }
   ],
   "source": [
    "# Calculate rolling correlation\n",
    "\n",
    "def df_rolling_corr():\n",
    "    df = pd.DataFrame({'A': [3, 3, 3, 5, 8], 'B': [-3, -3, -3, -5, -8]})\n",
    "    other = pd.DataFrame({'A': [3, 4, 4, 4, 8], 'B': [-3, -4, -4, -4, -8]})\n",
    "    out_df = df.rolling(4).corr(other)\n",
    "\n",
    "    # Expect DataFrame of\n",
    "    # {'A': [NaN, NaN, NaN, 0.333333, 0.916949],\n",
    "    #  'B': [NaN, NaN, NaN, 0.333333, 0.916949]}\n",
    "    return out_df\n",
    "\n",
    "\n",
    "print(df_rolling_corr())"
   ]
  },
  {
   "cell_type": "code",
   "execution_count": 17,
   "metadata": {},
   "outputs": [
    {
     "name": "stdout",
     "output_type": "stream",
     "text": [
      "0         NaN\n",
      "1         NaN\n",
      "2         NaN\n",
      "3    0.333333\n",
      "4    0.916949\n",
      "dtype: float64\n"
     ]
    }
   ],
   "source": [
    "# Calculate rolling correlation\n",
    "\n",
    "def series_rolling_corr():\n",
    "    series = pd.Series([3, 3, 3, 5, 8])  # Series of 3, 3, 3, 5, 8\n",
    "    other = pd.Series([3, 4, 4, 4, 8])  # Series of 3, 4, 4, 4, 8\n",
    "    out_series = series.rolling(4).corr(other)\n",
    "\n",
    "    return out_series  # Expect series of NaN, NaN, NaN, 0.333333, 0.916949\n",
    "\n",
    "\n",
    "print(series_rolling_corr())"
   ]
  },
  {
   "cell_type": "code",
   "execution_count": 18,
   "metadata": {},
   "outputs": [
    {
     "name": "stdout",
     "output_type": "stream",
     "text": [
      "     A    B\n",
      "0  NaN  NaN\n",
      "1  NaN  NaN\n",
      "2  5.0 -3.0\n",
      "3  5.0 -2.0\n",
      "4  6.0 -2.0\n"
     ]
    }
   ],
   "source": [
    "# Calculate the rolling maximum\n",
    "\n",
    "def df_rolling_max():\n",
    "    df = pd.DataFrame({'A': [4, 3, 5, 2, 6], 'B': [-4, -3, -5, -2, -6]})\n",
    "    out_df = df.rolling(3).max()\n",
    "\n",
    "    # Expect DataFrame of\n",
    "    # {'A': [NaN, NaN, 5.0, 5.0, 6.0], 'B': [NaN, NaN, -3.0, -2.0, -2.0]}\n",
    "    return out_df\n",
    "\n",
    "\n",
    "print(df_rolling_max())"
   ]
  },
  {
   "cell_type": "code",
   "execution_count": 19,
   "metadata": {},
   "outputs": [
    {
     "name": "stdout",
     "output_type": "stream",
     "text": [
      "0    NaN\n",
      "1    NaN\n",
      "2    5.0\n",
      "3    5.0\n",
      "4    6.0\n",
      "dtype: float64\n"
     ]
    }
   ],
   "source": [
    "# Calculate the rolling maximum\n",
    "\n",
    "def series_rolling_max():\n",
    "    series = pd.Series([4, 3, 5, 2, 6])  # Series of 4, 3, 5, 2, 6\n",
    "    out_series = series.rolling(3).max()\n",
    "\n",
    "    return out_series  # Expect series of NaN, NaN, 5.0, 5.0, 6.0\n",
    "\n",
    "\n",
    "print(series_rolling_max())"
   ]
  },
  {
   "cell_type": "code",
   "execution_count": 20,
   "metadata": {},
   "outputs": [
    {
     "name": "stdout",
     "output_type": "stream",
     "text": [
      "     A    B\n",
      "0  NaN  NaN\n",
      "1  NaN  NaN\n",
      "2  3.0 -5.0\n",
      "3  2.0 -5.0\n",
      "4  2.0 -6.0\n"
     ]
    }
   ],
   "source": [
    "# Calculate the rolling minimum\n",
    "\n",
    "v"
   ]
  },
  {
   "cell_type": "code",
   "execution_count": 21,
   "metadata": {},
   "outputs": [
    {
     "name": "stdout",
     "output_type": "stream",
     "text": [
      "0    NaN\n",
      "1    NaN\n",
      "2    3.0\n",
      "3    2.0\n",
      "4    2.0\n",
      "dtype: float64\n"
     ]
    }
   ],
   "source": [
    "# Calculate the rolling minimum\n",
    "\n",
    "def series_rolling_min():\n",
    "    series = pd.Series([4, 3, 5, 2, 6])  # Series of 4, 3, 5, 2, 6\n",
    "    out_series = series.rolling(3).min()\n",
    "\n",
    "    return out_series  # Expect series of NaN, NaN, 3.0, 2.0, 2.0\n",
    "\n",
    "\n",
    "print(series_rolling_min())"
   ]
  },
  {
   "cell_type": "code",
   "execution_count": 22,
   "metadata": {},
   "outputs": [
    {
     "name": "stdout",
     "output_type": "stream",
     "text": [
      "          A         B\n",
      "0       NaN       NaN\n",
      "1       NaN       NaN\n",
      "2  1.000000  1.000000\n",
      "3  1.527525  1.527525\n",
      "4  2.081666  2.081666\n"
     ]
    }
   ],
   "source": [
    "# Calculate rolling standard deviation\n",
    "\n",
    "def df_rolling_std():\n",
    "    df = pd.DataFrame({'A': [4, 3, 5, 2, 6], 'B': [-4, -3, -5, -2, -6]})\n",
    "    out_df = df.rolling(3).std()\n",
    "\n",
    "    # Expect DataFrame of\n",
    "    # {'A': [NaN, NaN, 1.000000, 1.527525, 2.081666],\n",
    "    #  'B': [NaN, NaN, 1.000000, 1.527525, 2.081666]}\n",
    "    return out_df\n",
    "\n",
    "\n",
    "print(df_rolling_std())"
   ]
  },
  {
   "cell_type": "code",
   "execution_count": 23,
   "metadata": {},
   "outputs": [
    {
     "name": "stdout",
     "output_type": "stream",
     "text": [
      "0         NaN\n",
      "1         NaN\n",
      "2    1.000000\n",
      "3    1.527525\n",
      "4    2.081666\n",
      "dtype: float64\n"
     ]
    }
   ],
   "source": [
    "# Calculate rolling standard deviation\n",
    "\n",
    "def series_rolling_std():\n",
    "    series = pd.Series([4, 3, 5, 2, 6])  # Series of 4, 3, 5, 2, 6\n",
    "    out_series = series.rolling(3).std()\n",
    "\n",
    "    return out_series  # Expect series of NaN, NaN, 1.000000, 1.527525, 2.081666\n",
    "\n",
    "\n",
    "print(series_rolling_std())"
   ]
  },
  {
   "cell_type": "code",
   "execution_count": 24,
   "metadata": {},
   "outputs": [
    {
     "name": "stdout",
     "output_type": "stream",
     "text": [
      "          A         B\n",
      "0       NaN       NaN\n",
      "1       NaN       NaN\n",
      "2  4.000000 -4.000000\n",
      "3  3.333333 -3.333333\n",
      "4  4.333333 -4.333333\n"
     ]
    }
   ],
   "source": [
    "# Calculate the rolling mean of the values\n",
    "\n",
    "def df_rolling_mean():\n",
    "    df = pd.DataFrame({'A': [4, 3, 5, 2, 6], 'B': [-4, -3, -5, -2, -6]})\n",
    "    out_df = df.rolling(3).mean()\n",
    "\n",
    "    # Expect DataFrame of\n",
    "    # {'A': [NaN, NaN, 4.000000, 3.333333, 4.333333],\n",
    "    #  'B': [NaN, NaN, -4.000000, -3.333333, -4.333333]}\n",
    "    return out_df\n",
    "\n",
    "\n",
    "print(df_rolling_mean())"
   ]
  },
  {
   "cell_type": "code",
   "execution_count": 25,
   "metadata": {},
   "outputs": [
    {
     "name": "stdout",
     "output_type": "stream",
     "text": [
      "      A     B\n",
      "0   NaN   NaN\n",
      "1   NaN   NaN\n",
      "2  12.0 -12.0\n",
      "3  10.0 -10.0\n",
      "4  13.0 -13.0\n"
     ]
    }
   ],
   "source": [
    "# Calculate rolling sum\n",
    "\n",
    "def df_rolling_sum():\n",
    "    df = pd.DataFrame({'A': [4, 3, 5, 2, 6], 'B': [-4, -3, -5, -2, -6]})\n",
    "    out_df = df.rolling(3).sum()\n",
    "\n",
    "    # Expect DataFrame of\n",
    "    # {'A': [NaN, NaN, 12.0, 10.0, 13.0], 'B': [NaN, NaN, -12.0, -10.0, -13.0]}\n",
    "    return out_df\n",
    "\n",
    "\n",
    "print(df_rolling_sum())"
   ]
  },
  {
   "cell_type": "code",
   "execution_count": 26,
   "metadata": {},
   "outputs": [
    {
     "name": "stdout",
     "output_type": "stream",
     "text": [
      "      animal\n",
      "0  alligator\n",
      "1        bee\n",
      "2     falcon\n",
      "3       lion\n",
      "4     monkey\n",
      "5     parrot\n"
     ]
    }
   ],
   "source": [
    "# Return the first n rows\n",
    "\n",
    "def dataframe_head():\n",
    "    df = pd.DataFrame({'animal': ['alligator', 'bee', 'falcon', 'lion',\n",
    "                                  'monkey', 'parrot', 'shark', 'whale', 'zebra']})\n",
    "\n",
    "    return df.head(n=6)\n",
    "\n",
    "\n",
    "print(dataframe_head())"
   ]
  },
  {
   "cell_type": "code",
   "execution_count": 27,
   "metadata": {},
   "outputs": [
    {
     "name": "stdout",
     "output_type": "stream",
     "text": [
      "   B  C\n",
      "0  4  a\n",
      "1  5  b\n",
      "2  6  c\n",
      "3  7  d\n"
     ]
    }
   ],
   "source": [
    "# Drop specified columns from DataFrame\n",
    "\n",
    "def dataframe_drop():\n",
    "    df = pd.DataFrame({'A': [1.0, 2.0, 3.0, 1.0], 'B': [4, 5, 6, 7], 'C': ['a', 'b', 'c', 'd']})\n",
    "\n",
    "    return df.drop(columns='A')\n",
    "\n",
    "\n",
    "print(dataframe_drop())"
   ]
  },
  {
   "cell_type": "code",
   "execution_count": 28,
   "metadata": {},
   "outputs": [
    {
     "name": "stdout",
     "output_type": "stream",
     "text": [
      "A     1.0\n",
      "B    10.0\n",
      "C     inf\n",
      "dtype: float64\n"
     ]
    }
   ],
   "source": [
    "# Return the sum of the values for the columns\n",
    "\n",
    "def dataframe_sum():\n",
    "    df = pd.DataFrame({\"A\": [.2, .0, .6, .2],\n",
    "                       \"B\": [2, 0, 6, 2],\n",
    "                       \"C\": [-1, np.nan, 1, np.inf]})\n",
    "\n",
    "    return df.sum()\n",
    "\n",
    "\n",
    "print(dataframe_sum())"
   ]
  },
  {
   "cell_type": "code",
   "execution_count": 29,
   "metadata": {},
   "outputs": [
    {
     "name": "stdout",
     "output_type": "stream",
     "text": [
      "A    0.0\n",
      "B    0.0\n",
      "C   -inf\n",
      "dtype: float64\n"
     ]
    }
   ],
   "source": [
    "# Return the product of the values for the columns\n",
    "\n",
    "def dataframe_prod():\n",
    "    df = pd.DataFrame({\"A\": [.2, .0, .6, .2],\n",
    "                       \"B\": [2, 0, 6, 2],\n",
    "                       \"C\": [-1, np.nan, 1, np.inf]})\n",
    "\n",
    "    return df.prod()\n",
    "\n",
    "\n",
    "print(dataframe_prod())"
   ]
  },
  {
   "cell_type": "code",
   "execution_count": 30,
   "metadata": {},
   "outputs": [
    {
     "name": "stdout",
     "output_type": "stream",
     "text": [
      "           A          B         C         D\n",
      "0        NaN        NaN       NaN       NaN\n",
      "1  -0.714286  -0.600000  0.000000 -0.785714\n",
      "2   0.250000  26.000000 -0.650000  1.000000\n",
      "3  -0.200000  -0.944444  2.000000 -0.666667\n",
      "4  -0.750000  -0.333333 -0.619048  2.000000\n",
      "5  54.000000  15.000000 -0.375000 -0.333333\n"
     ]
    }
   ],
   "source": [
    "# Percentage change between the current and a prior element\n",
    "\n",
    "def dataframe_pct_change():\n",
    "    df = pd.DataFrame({\"A\": [14, 4, 5, 4, 1, 55],\n",
    "                       \"B\": [5, 2, 54, 3, 2, 32],\n",
    "                       \"C\": [20, 20, 7, 21, 8, 5],\n",
    "                       \"D\": [14, 3, 6, 2, 6, 4]})\n",
    "    out_df = df.pct_change()\n",
    "\n",
    "    return out_df\n",
    "\n",
    "\n",
    "print(dataframe_pct_change())"
   ]
  },
  {
   "cell_type": "code",
   "execution_count": 31,
   "metadata": {},
   "outputs": [
    {
     "name": "stdout",
     "output_type": "stream",
     "text": [
      "A    4\n",
      "B    4\n",
      "C    3\n",
      "dtype: int64\n"
     ]
    }
   ],
   "source": [
    "# Count non-NA cells for each column or row\n",
    "\n",
    "def dataframe_count():\n",
    "    df = pd.DataFrame({\"A\": [.2, .0, .6, .2],\n",
    "                       \"B\": [2, 0, 6, 2],\n",
    "                       \"C\": [-1, np.nan, 1, np.inf]})\n",
    "\n",
    "    return df.count()\n",
    "\n",
    "\n",
    "print(dataframe_count())"
   ]
  },
  {
   "cell_type": "code",
   "execution_count": 32,
   "metadata": {},
   "outputs": [
    {
     "name": "stdout",
     "output_type": "stream",
     "text": [
      "   B  C\n",
      "A      \n",
      "1  0  1\n",
      "2  1  2\n",
      "3  2  3\n"
     ]
    }
   ],
   "source": [
    "# Groupby and calculate the minimum in each group\n",
    "\n",
    "def df_groupby_min():\n",
    "    df = pd.DataFrame({'A': [1, 2, 3, 1, 2, 3, 3, 3, 2],\n",
    "                       'B': [0, 1, 5, 0, 2, 4, 3, 2, 3],\n",
    "                       'C': [1, 2, 3, 4, 5, 6, 7, 8, 9]})\n",
    "    out_df = df.groupby('A').min()\n",
    "\n",
    "    # Expect DataFrame of\n",
    "    # {'B': [0, 1, 2], 'C': [1, 2, 3} with index=[1, 2, 3]\n",
    "    return out_df\n",
    "\n",
    "\n",
    "print(df_groupby_min())"
   ]
  },
  {
   "cell_type": "code",
   "execution_count": 33,
   "metadata": {},
   "outputs": [
    {
     "name": "stdout",
     "output_type": "stream",
     "text": [
      "b\n"
     ]
    }
   ],
   "source": [
    "# Get value at specified index position\n",
    "\n",
    "def dataframe_iat():\n",
    "    df = pd.DataFrame({'A': [1.0, 2.0, 3.0, 1.0], 'B': [4, 5, 6, 7], 'C': ['a', 'b', 'c', 'd']})\n",
    "\n",
    "    return df.iat[1, 2]  # value b\n",
    "\n",
    "\n",
    "print(dataframe_iat())"
   ]
  },
  {
   "cell_type": "code",
   "execution_count": 34,
   "metadata": {},
   "outputs": [
    {
     "name": "stdout",
     "output_type": "stream",
     "text": [
      "      animal\n",
      "0  alligator\n",
      "1        bee\n",
      "2     falcon\n",
      "3       lion\n",
      "4     monkey\n",
      "5     parrot\n"
     ]
    }
   ],
   "source": [
    "# Return the first n rows\n",
    "\n",
    "def dataframe_head():\n",
    "    df = pd.DataFrame({'animal': ['alligator', 'bee', 'falcon', 'lion',\n",
    "                                  'monkey', 'parrot', 'shark', 'whale', 'zebra']})\n",
    "\n",
    "    return df.head(n=6)\n",
    "\n",
    "\n",
    "print(dataframe_head())"
   ]
  },
  {
   "cell_type": "code",
   "execution_count": 35,
   "metadata": {},
   "outputs": [
    {
     "name": "stdout",
     "output_type": "stream",
     "text": [
      "       A      B      C\n",
      "0  False  False   True\n",
      "1   True  False  False\n",
      "2  False  False  False\n",
      "3  False  False  False\n"
     ]
    }
   ],
   "source": [
    "# Detect missing values\n",
    "\n",
    "def dataframe_isna():\n",
    "    df = pd.DataFrame({'A': [1.0, np.nan, 3.0, 1.0], 'B': [4, 5, 6, 7], 'C': [None, 'b', 'c', 'd']})\n",
    "\n",
    "    return df.isna()\n",
    "\n",
    "\n",
    "print(dataframe_isna())"
   ]
  },
  {
   "cell_type": "code",
   "execution_count": 36,
   "metadata": {},
   "outputs": [
    {
     "name": "stdout",
     "output_type": "stream",
     "text": [
      "     A  B\n",
      "0  1.0  4\n",
      "1  2.0  5\n",
      "2  3.0  6\n",
      "3  1.0  7\n"
     ]
    }
   ],
   "source": [
    "# Make a copy of this object’s indices and data\n",
    "\n",
    "def dataframe_copy():\n",
    "    df = pd.DataFrame({'A': [1.0, 2.0, 3.0, 1.0], 'B': [4, 5, 6, 7]})\n",
    "    new_df = df.copy(deep=True)\n",
    "    return new_df\n",
    "\n",
    "\n",
    "print(dataframe_copy())"
   ]
  },
  {
   "cell_type": "code",
   "execution_count": 37,
   "metadata": {},
   "outputs": [
    {
     "name": "stdout",
     "output_type": "stream",
     "text": [
      "   A  B  C\n",
      "0  0  1  2\n",
      "2  2  3  4\n"
     ]
    }
   ],
   "source": [
    "# Getting Pandas DataFrame elements where key is series of booleans\n",
    "\n",
    "def dataframe_getitem():\n",
    "    df = pd.DataFrame({'A': [0, 1, 2, 3, 4],\n",
    "                       'B': [1, 2, 3, 4, 5],\n",
    "                       'C': [2, 3, 4, 5, 6]})\n",
    "    val = pd.Series([True, False, True, False, False])\n",
    "\n",
    "    return df[val]\n",
    "\n",
    "\n",
    "print(dataframe_getitem())"
   ]
  },
  {
   "cell_type": "code",
   "execution_count": 38,
   "metadata": {},
   "outputs": [
    {
     "name": "stdout",
     "output_type": "stream",
     "text": [
      "   A  B  C\n",
      "1  1  2  3\n",
      "4  4  5  6\n"
     ]
    }
   ],
   "source": [
    "# Getting Pandas DataFrame elements where key is an array of booleans\n",
    "\n",
    "def dataframe_getitem():\n",
    "    df = pd.DataFrame({'A': [0, 1, 2, 3, 4],\n",
    "                       'B': [1, 2, 3, 4, 5],\n",
    "                       'C': [2, 3, 4, 5, 6]})\n",
    "    arr = np.array([False, True, False, False, True])\n",
    "\n",
    "    return df[arr]\n",
    "\n",
    "\n",
    "print(dataframe_getitem())"
   ]
  },
  {
   "cell_type": "code",
   "execution_count": 42,
   "metadata": {},
   "outputs": [
    {
     "name": "stdout",
     "output_type": "stream",
     "text": [
      "   A  B  C\n",
      "1  1  2  3\n",
      "2  2  3  4\n"
     ]
    }
   ],
   "source": [
    "# Getting slice of Pandas DataFrame\n",
    "\n",
    "def dataframe_getitem():\n",
    "    df = pd.DataFrame({'A': [0, 1, 2, 3, 4],\n",
    "                       'B': [1, 2, 3, 4, 5],\n",
    "                       'C': [2, 3, 4, 5, 6]})\n",
    "\n",
    "    return df[1:3]\n",
    "\n",
    "\n",
    "print(dataframe_getitem())"
   ]
  },
  {
   "cell_type": "code",
   "execution_count": 43,
   "metadata": {},
   "outputs": [
    {
     "name": "stdout",
     "output_type": "stream",
     "text": [
      "0    0\n",
      "1    1\n",
      "2    2\n",
      "3    3\n",
      "4    4\n",
      "Name: A, dtype: int64\n"
     ]
    }
   ],
   "source": [
    "# Getting Pandas DataFrame column where key is a string\n",
    "\n",
    "def dataframe_getitem():\n",
    "    df = pd.DataFrame({'A': [0, 1, 2, 3, 4],\n",
    "                       'B': [1, 2, 3, 4, 5],\n",
    "                       'C': [2, 3, 4, 5, 6]})\n",
    "\n",
    "    return df['A']\n",
    "\n",
    "\n",
    "print(dataframe_getitem())"
   ]
  },
  {
   "cell_type": "code",
   "execution_count": 44,
   "metadata": {},
   "outputs": [
    {
     "name": "stdout",
     "output_type": "stream",
     "text": [
      "0    2\n",
      "1    3\n",
      "2    4\n",
      "3    5\n",
      "4    6\n",
      "Name: C, dtype: int64\n"
     ]
    }
   ],
   "source": [
    "# Getting Pandas DataFrame column through getting attribute\n",
    "\n",
    "def dataframe_getitem():\n",
    "    df = pd.DataFrame({'A': [0, 1, 2, 3, 4],\n",
    "                       'B': [1, 2, 3, 4, 5],\n",
    "                       'C': [2, 3, 4, 5, 6]})\n",
    "\n",
    "    return df.C\n",
    "\n",
    "\n",
    "print(dataframe_getitem())"
   ]
  },
  {
   "cell_type": "code",
   "execution_count": null,
   "metadata": {},
   "outputs": [],
   "source": [
    "# Compute min of group values\n",
    "\n",
    "\n",
    "\n",
    "\n",
    "\n",
    "\n",
    "\n",
    "#https://intelpython.github.io/sdc-doc/latest/examples.html"
   ]
  },
  {
   "cell_type": "code",
   "execution_count": null,
   "metadata": {},
   "outputs": [],
   "source": [
    "# Compute min of group values\n",
    "\n"
   ]
  },
  {
   "cell_type": "code",
   "execution_count": null,
   "metadata": {},
   "outputs": [],
   "source": [
    "# Compute min of group values\n",
    "\n"
   ]
  },
  {
   "cell_type": "code",
   "execution_count": null,
   "metadata": {},
   "outputs": [],
   "source": [
    "# Compute min of group values\n",
    "\n"
   ]
  },
  {
   "cell_type": "code",
   "execution_count": null,
   "metadata": {},
   "outputs": [],
   "source": [
    "# Compute min of group values\n",
    "\n"
   ]
  },
  {
   "cell_type": "code",
   "execution_count": null,
   "metadata": {},
   "outputs": [],
   "source": [
    "# Compute min of group values\n",
    "\n"
   ]
  },
  {
   "cell_type": "code",
   "execution_count": null,
   "metadata": {},
   "outputs": [],
   "source": [
    "# Compute min of group values\n",
    "\n"
   ]
  },
  {
   "cell_type": "code",
   "execution_count": null,
   "metadata": {},
   "outputs": [],
   "source": [
    "# Compute min of group values\n",
    "\n"
   ]
  },
  {
   "cell_type": "code",
   "execution_count": null,
   "metadata": {},
   "outputs": [],
   "source": [
    "# Compute min of group values\n",
    "\n"
   ]
  },
  {
   "cell_type": "code",
   "execution_count": null,
   "metadata": {},
   "outputs": [],
   "source": [
    "# Compute min of group values\n",
    "\n"
   ]
  },
  {
   "cell_type": "code",
   "execution_count": null,
   "metadata": {},
   "outputs": [],
   "source": [
    "# Compute min of group values\n",
    "\n"
   ]
  },
  {
   "cell_type": "code",
   "execution_count": null,
   "metadata": {},
   "outputs": [],
   "source": [
    "# Compute min of group values\n",
    "\n"
   ]
  },
  {
   "cell_type": "code",
   "execution_count": null,
   "metadata": {},
   "outputs": [],
   "source": [
    "# Compute min of group values\n",
    "\n"
   ]
  },
  {
   "cell_type": "code",
   "execution_count": null,
   "metadata": {},
   "outputs": [],
   "source": [
    "# Compute min of group values\n",
    "\n"
   ]
  },
  {
   "cell_type": "code",
   "execution_count": null,
   "metadata": {},
   "outputs": [],
   "source": [
    "# Compute min of group values\n",
    "\n"
   ]
  },
  {
   "cell_type": "code",
   "execution_count": null,
   "metadata": {},
   "outputs": [],
   "source": [
    "# Compute min of group values\n",
    "\n"
   ]
  },
  {
   "cell_type": "code",
   "execution_count": null,
   "metadata": {},
   "outputs": [],
   "source": [
    "# Compute min of group values\n",
    "\n"
   ]
  },
  {
   "cell_type": "code",
   "execution_count": null,
   "metadata": {},
   "outputs": [],
   "source": [
    "# Compute min of group values\n",
    "\n"
   ]
  },
  {
   "cell_type": "code",
   "execution_count": null,
   "metadata": {},
   "outputs": [],
   "source": [
    "# Compute min of group values\n",
    "\n"
   ]
  },
  {
   "cell_type": "code",
   "execution_count": null,
   "metadata": {},
   "outputs": [],
   "source": [
    "# Compute min of group values\n",
    "\n"
   ]
  },
  {
   "cell_type": "code",
   "execution_count": null,
   "metadata": {},
   "outputs": [],
   "source": [
    "# Compute min of group values\n",
    "\n"
   ]
  },
  {
   "cell_type": "code",
   "execution_count": null,
   "metadata": {},
   "outputs": [],
   "source": [
    "# Compute min of group values\n",
    "\n"
   ]
  },
  {
   "cell_type": "code",
   "execution_count": null,
   "metadata": {},
   "outputs": [],
   "source": [
    "# Compute min of group values\n",
    "\n"
   ]
  },
  {
   "cell_type": "code",
   "execution_count": null,
   "metadata": {},
   "outputs": [],
   "source": [
    "# Compute min of group values\n",
    "\n"
   ]
  },
  {
   "cell_type": "code",
   "execution_count": null,
   "metadata": {},
   "outputs": [],
   "source": [
    "# Compute min of group values\n",
    "\n"
   ]
  },
  {
   "cell_type": "code",
   "execution_count": null,
   "metadata": {},
   "outputs": [],
   "source": [
    "# Compute min of group values\n",
    "\n"
   ]
  },
  {
   "cell_type": "code",
   "execution_count": null,
   "metadata": {},
   "outputs": [],
   "source": [
    "# Compute min of group values\n",
    "\n"
   ]
  },
  {
   "cell_type": "code",
   "execution_count": null,
   "metadata": {},
   "outputs": [],
   "source": [
    "# Compute min of group values\n",
    "\n"
   ]
  },
  {
   "cell_type": "code",
   "execution_count": null,
   "metadata": {},
   "outputs": [],
   "source": [
    "# Compute min of group values\n",
    "\n"
   ]
  },
  {
   "cell_type": "code",
   "execution_count": null,
   "metadata": {},
   "outputs": [],
   "source": [
    "# Compute min of group values\n",
    "\n"
   ]
  },
  {
   "cell_type": "code",
   "execution_count": null,
   "metadata": {},
   "outputs": [],
   "source": [
    "# Compute min of group values\n",
    "\n"
   ]
  },
  {
   "cell_type": "code",
   "execution_count": null,
   "metadata": {},
   "outputs": [],
   "source": [
    "# Compute min of group values\n",
    "\n"
   ]
  },
  {
   "cell_type": "code",
   "execution_count": null,
   "metadata": {},
   "outputs": [],
   "source": [
    "# Compute min of group values\n",
    "\n"
   ]
  },
  {
   "cell_type": "code",
   "execution_count": null,
   "metadata": {},
   "outputs": [],
   "source": [
    "# Compute min of group values\n",
    "\n"
   ]
  },
  {
   "cell_type": "code",
   "execution_count": null,
   "metadata": {},
   "outputs": [],
   "source": [
    "# Compute min of group values\n",
    "\n"
   ]
  },
  {
   "cell_type": "code",
   "execution_count": null,
   "metadata": {},
   "outputs": [],
   "source": [
    "# Compute min of group values\n",
    "\n"
   ]
  },
  {
   "cell_type": "code",
   "execution_count": null,
   "metadata": {},
   "outputs": [],
   "source": [
    "# Compute min of group values\n",
    "\n"
   ]
  },
  {
   "cell_type": "code",
   "execution_count": null,
   "metadata": {},
   "outputs": [],
   "source": [
    "# Compute min of group values\n",
    "\n"
   ]
  },
  {
   "cell_type": "code",
   "execution_count": null,
   "metadata": {},
   "outputs": [],
   "source": [
    "# Compute min of group values\n",
    "\n"
   ]
  },
  {
   "cell_type": "code",
   "execution_count": null,
   "metadata": {},
   "outputs": [],
   "source": [
    "# Compute min of group values\n",
    "\n"
   ]
  },
  {
   "cell_type": "code",
   "execution_count": null,
   "metadata": {},
   "outputs": [],
   "source": [
    "# Compute min of group values\n",
    "\n"
   ]
  },
  {
   "cell_type": "code",
   "execution_count": null,
   "metadata": {},
   "outputs": [],
   "source": [
    "# Compute min of group values\n",
    "\n"
   ]
  },
  {
   "cell_type": "code",
   "execution_count": null,
   "metadata": {},
   "outputs": [],
   "source": [
    "# Compute min of group values\n",
    "\n"
   ]
  },
  {
   "cell_type": "code",
   "execution_count": null,
   "metadata": {},
   "outputs": [],
   "source": [
    "# Compute min of group values\n",
    "\n"
   ]
  },
  {
   "cell_type": "code",
   "execution_count": null,
   "metadata": {},
   "outputs": [],
   "source": [
    "# Compute min of group values\n",
    "\n"
   ]
  },
  {
   "cell_type": "code",
   "execution_count": null,
   "metadata": {},
   "outputs": [],
   "source": [
    "# Compute min of group values\n",
    "\n"
   ]
  },
  {
   "cell_type": "code",
   "execution_count": null,
   "metadata": {},
   "outputs": [],
   "source": [
    "# Compute min of group values\n",
    "\n"
   ]
  },
  {
   "cell_type": "code",
   "execution_count": null,
   "metadata": {},
   "outputs": [],
   "source": [
    "# Compute min of group values\n",
    "\n"
   ]
  },
  {
   "cell_type": "code",
   "execution_count": null,
   "metadata": {},
   "outputs": [],
   "source": [
    "# Compute min of group values\n",
    "\n"
   ]
  },
  {
   "cell_type": "code",
   "execution_count": null,
   "metadata": {},
   "outputs": [],
   "source": [
    "# Compute min of group values\n",
    "\n"
   ]
  },
  {
   "cell_type": "code",
   "execution_count": null,
   "metadata": {},
   "outputs": [],
   "source": [
    "# Compute min of group values\n",
    "\n"
   ]
  },
  {
   "cell_type": "code",
   "execution_count": null,
   "metadata": {},
   "outputs": [],
   "source": [
    "# Compute min of group values\n",
    "\n"
   ]
  },
  {
   "cell_type": "code",
   "execution_count": null,
   "metadata": {},
   "outputs": [],
   "source": [
    "# Compute min of group values\n",
    "\n"
   ]
  },
  {
   "cell_type": "code",
   "execution_count": null,
   "metadata": {},
   "outputs": [],
   "source": [
    "# Compute min of group values\n",
    "\n"
   ]
  },
  {
   "cell_type": "code",
   "execution_count": null,
   "metadata": {},
   "outputs": [],
   "source": [
    "# Compute min of group values\n",
    "\n"
   ]
  },
  {
   "cell_type": "code",
   "execution_count": null,
   "metadata": {},
   "outputs": [],
   "source": [
    "# Compute min of group values\n",
    "\n"
   ]
  },
  {
   "cell_type": "code",
   "execution_count": null,
   "metadata": {},
   "outputs": [],
   "source": [
    "# Compute min of group values\n",
    "\n"
   ]
  },
  {
   "cell_type": "code",
   "execution_count": null,
   "metadata": {},
   "outputs": [],
   "source": [
    "# Compute min of group values\n",
    "\n"
   ]
  },
  {
   "cell_type": "code",
   "execution_count": null,
   "metadata": {},
   "outputs": [],
   "source": [
    "# Compute min of group values\n",
    "\n"
   ]
  },
  {
   "cell_type": "code",
   "execution_count": null,
   "metadata": {},
   "outputs": [],
   "source": [
    "# Compute min of group values\n",
    "\n"
   ]
  },
  {
   "cell_type": "code",
   "execution_count": null,
   "metadata": {},
   "outputs": [],
   "source": [
    "# Compute min of group values\n",
    "\n"
   ]
  },
  {
   "cell_type": "code",
   "execution_count": null,
   "metadata": {},
   "outputs": [],
   "source": [
    "# Compute min of group values\n",
    "\n"
   ]
  },
  {
   "cell_type": "code",
   "execution_count": null,
   "metadata": {},
   "outputs": [],
   "source": [
    "# Compute min of group values\n",
    "\n"
   ]
  },
  {
   "cell_type": "code",
   "execution_count": null,
   "metadata": {},
   "outputs": [],
   "source": [
    "# Compute min of group values\n",
    "\n"
   ]
  },
  {
   "cell_type": "code",
   "execution_count": null,
   "metadata": {},
   "outputs": [],
   "source": [
    "# Compute min of group values\n",
    "\n"
   ]
  },
  {
   "cell_type": "code",
   "execution_count": null,
   "metadata": {},
   "outputs": [],
   "source": [
    "# Compute min of group values\n",
    "\n"
   ]
  },
  {
   "cell_type": "code",
   "execution_count": null,
   "metadata": {},
   "outputs": [],
   "source": [
    "# Compute min of group values\n",
    "\n"
   ]
  },
  {
   "cell_type": "code",
   "execution_count": null,
   "metadata": {},
   "outputs": [],
   "source": [
    "# Compute min of group values\n",
    "\n"
   ]
  },
  {
   "cell_type": "code",
   "execution_count": null,
   "metadata": {},
   "outputs": [],
   "source": [
    "# Compute min of group values\n",
    "\n"
   ]
  },
  {
   "cell_type": "code",
   "execution_count": null,
   "metadata": {},
   "outputs": [],
   "source": [
    "# Compute min of group values\n",
    "\n"
   ]
  },
  {
   "cell_type": "code",
   "execution_count": null,
   "metadata": {},
   "outputs": [],
   "source": [
    "# Compute min of group values\n",
    "\n"
   ]
  },
  {
   "cell_type": "code",
   "execution_count": null,
   "metadata": {},
   "outputs": [],
   "source": [
    "# Compute min of group values\n",
    "\n"
   ]
  },
  {
   "cell_type": "code",
   "execution_count": null,
   "metadata": {},
   "outputs": [],
   "source": [
    "# Compute min of group values\n",
    "\n"
   ]
  },
  {
   "cell_type": "code",
   "execution_count": null,
   "metadata": {},
   "outputs": [],
   "source": [
    "# Compute min of group values\n",
    "\n"
   ]
  },
  {
   "cell_type": "code",
   "execution_count": null,
   "metadata": {},
   "outputs": [],
   "source": [
    "# Compute min of group values\n",
    "\n"
   ]
  },
  {
   "cell_type": "code",
   "execution_count": null,
   "metadata": {},
   "outputs": [],
   "source": [
    "# Compute min of group values\n",
    "\n"
   ]
  },
  {
   "cell_type": "code",
   "execution_count": null,
   "metadata": {},
   "outputs": [],
   "source": [
    "# Compute min of group values\n",
    "\n"
   ]
  },
  {
   "cell_type": "code",
   "execution_count": null,
   "metadata": {},
   "outputs": [],
   "source": [
    "# Compute min of group values\n",
    "\n"
   ]
  },
  {
   "cell_type": "code",
   "execution_count": null,
   "metadata": {},
   "outputs": [],
   "source": [
    "# Compute min of group values\n",
    "\n"
   ]
  },
  {
   "cell_type": "code",
   "execution_count": null,
   "metadata": {},
   "outputs": [],
   "source": [
    "# Compute min of group values\n",
    "\n"
   ]
  },
  {
   "cell_type": "code",
   "execution_count": null,
   "metadata": {},
   "outputs": [],
   "source": [
    "# Compute min of group values\n",
    "\n"
   ]
  },
  {
   "cell_type": "code",
   "execution_count": null,
   "metadata": {},
   "outputs": [],
   "source": [
    "# Compute min of group values\n",
    "\n"
   ]
  },
  {
   "cell_type": "code",
   "execution_count": null,
   "metadata": {},
   "outputs": [],
   "source": [
    "# Compute min of group values\n",
    "\n"
   ]
  },
  {
   "cell_type": "code",
   "execution_count": null,
   "metadata": {},
   "outputs": [],
   "source": [
    "# Compute min of group values\n",
    "\n"
   ]
  },
  {
   "cell_type": "code",
   "execution_count": null,
   "metadata": {},
   "outputs": [],
   "source": [
    "# Compute min of group values\n",
    "\n"
   ]
  },
  {
   "cell_type": "code",
   "execution_count": null,
   "metadata": {},
   "outputs": [],
   "source": [
    "# Compute min of group values\n",
    "\n"
   ]
  },
  {
   "cell_type": "code",
   "execution_count": null,
   "metadata": {},
   "outputs": [],
   "source": [
    "# Compute min of group values\n",
    "\n"
   ]
  },
  {
   "cell_type": "code",
   "execution_count": null,
   "metadata": {},
   "outputs": [],
   "source": [
    "# Compute min of group values\n",
    "\n"
   ]
  },
  {
   "cell_type": "code",
   "execution_count": null,
   "metadata": {},
   "outputs": [],
   "source": [
    "# Compute min of group values\n",
    "\n"
   ]
  },
  {
   "cell_type": "code",
   "execution_count": null,
   "metadata": {},
   "outputs": [],
   "source": [
    "# Compute min of group values\n",
    "\n"
   ]
  },
  {
   "cell_type": "code",
   "execution_count": null,
   "metadata": {},
   "outputs": [],
   "source": [
    "# Compute min of group values\n",
    "\n"
   ]
  },
  {
   "cell_type": "code",
   "execution_count": null,
   "metadata": {},
   "outputs": [],
   "source": [
    "# Compute min of group values\n",
    "\n"
   ]
  },
  {
   "cell_type": "code",
   "execution_count": null,
   "metadata": {},
   "outputs": [],
   "source": [
    "# Compute min of group values\n",
    "\n"
   ]
  },
  {
   "cell_type": "code",
   "execution_count": null,
   "metadata": {},
   "outputs": [],
   "source": [
    "# Compute min of group values\n",
    "\n"
   ]
  },
  {
   "cell_type": "code",
   "execution_count": null,
   "metadata": {},
   "outputs": [],
   "source": [
    "# Compute min of group values\n",
    "\n"
   ]
  },
  {
   "cell_type": "code",
   "execution_count": null,
   "metadata": {},
   "outputs": [],
   "source": [
    "# Compute min of group values\n",
    "\n"
   ]
  },
  {
   "cell_type": "code",
   "execution_count": null,
   "metadata": {},
   "outputs": [],
   "source": [
    "# Compute min of group values\n",
    "\n"
   ]
  },
  {
   "cell_type": "code",
   "execution_count": null,
   "metadata": {},
   "outputs": [],
   "source": [
    "# Compute min of group values\n",
    "\n"
   ]
  },
  {
   "cell_type": "code",
   "execution_count": null,
   "metadata": {},
   "outputs": [],
   "source": [
    "# Compute min of group values\n",
    "\n"
   ]
  },
  {
   "cell_type": "code",
   "execution_count": null,
   "metadata": {},
   "outputs": [],
   "source": [
    "# Compute min of group values\n",
    "\n"
   ]
  },
  {
   "cell_type": "code",
   "execution_count": null,
   "metadata": {},
   "outputs": [],
   "source": [
    "# Compute min of group values\n",
    "\n"
   ]
  },
  {
   "cell_type": "code",
   "execution_count": null,
   "metadata": {},
   "outputs": [],
   "source": [
    "# Compute min of group values\n",
    "\n"
   ]
  },
  {
   "cell_type": "code",
   "execution_count": null,
   "metadata": {},
   "outputs": [],
   "source": [
    "# Compute min of group values\n",
    "\n"
   ]
  },
  {
   "cell_type": "code",
   "execution_count": null,
   "metadata": {},
   "outputs": [],
   "source": [
    "# Compute min of group values\n",
    "\n"
   ]
  },
  {
   "cell_type": "code",
   "execution_count": null,
   "metadata": {},
   "outputs": [],
   "source": [
    "# Compute min of group values\n",
    "\n"
   ]
  },
  {
   "cell_type": "code",
   "execution_count": null,
   "metadata": {},
   "outputs": [],
   "source": [
    "# Compute min of group values\n",
    "\n"
   ]
  },
  {
   "cell_type": "code",
   "execution_count": null,
   "metadata": {},
   "outputs": [],
   "source": [
    "# Compute min of group values\n",
    "\n"
   ]
  },
  {
   "cell_type": "code",
   "execution_count": null,
   "metadata": {},
   "outputs": [],
   "source": [
    "# Compute min of group values\n",
    "\n"
   ]
  },
  {
   "cell_type": "code",
   "execution_count": null,
   "metadata": {},
   "outputs": [],
   "source": [
    "# Compute min of group values\n",
    "\n"
   ]
  },
  {
   "cell_type": "code",
   "execution_count": null,
   "metadata": {},
   "outputs": [],
   "source": [
    "# Compute min of group values\n",
    "\n"
   ]
  },
  {
   "cell_type": "code",
   "execution_count": null,
   "metadata": {},
   "outputs": [],
   "source": [
    "# Compute min of group values\n",
    "\n"
   ]
  },
  {
   "cell_type": "code",
   "execution_count": null,
   "metadata": {},
   "outputs": [],
   "source": [
    "# Compute min of group values\n",
    "\n"
   ]
  },
  {
   "cell_type": "code",
   "execution_count": null,
   "metadata": {},
   "outputs": [],
   "source": [
    "# Compute min of group values\n",
    "\n"
   ]
  },
  {
   "cell_type": "code",
   "execution_count": null,
   "metadata": {},
   "outputs": [],
   "source": [
    "# Compute min of group values\n",
    "\n"
   ]
  },
  {
   "cell_type": "code",
   "execution_count": null,
   "metadata": {},
   "outputs": [],
   "source": [
    "# Compute min of group values\n",
    "\n"
   ]
  },
  {
   "cell_type": "code",
   "execution_count": null,
   "metadata": {},
   "outputs": [],
   "source": [
    "# Compute min of group values\n",
    "\n"
   ]
  },
  {
   "cell_type": "code",
   "execution_count": null,
   "metadata": {},
   "outputs": [],
   "source": [
    "# Compute min of group values\n",
    "\n"
   ]
  },
  {
   "cell_type": "code",
   "execution_count": null,
   "metadata": {},
   "outputs": [],
   "source": [
    "# Compute min of group values\n",
    "\n"
   ]
  },
  {
   "cell_type": "code",
   "execution_count": null,
   "metadata": {},
   "outputs": [],
   "source": [
    "# Compute min of group values\n",
    "\n"
   ]
  },
  {
   "cell_type": "code",
   "execution_count": null,
   "metadata": {},
   "outputs": [],
   "source": [
    "# Compute min of group values\n",
    "\n",
    "# Compute min of group values\n",
    "\n",
    "# Compute min of group values\n",
    "\n",
    "# Compute min of group values\n",
    "\n",
    "# Compute min of group values\n",
    "\n",
    "# Compute min of group values\n",
    "\n",
    "# Compute min of group values\n",
    "\n",
    "# Compute min of group values\n",
    "\n",
    "# Compute min of group values\n",
    "\n",
    "# Compute min of group values\n",
    "\n",
    "# Compute min of group values\n",
    "\n",
    "# Compute min of group values\n",
    "\n",
    "# Compute min of group values\n",
    "\n",
    "# Compute min of group values\n",
    "\n",
    "# Compute min of group values\n",
    "\n",
    "# Compute min of group values\n",
    "\n",
    "# Compute min of group values\n",
    "\n",
    "# Compute min of group values\n",
    "\n",
    "# Compute min of group values\n",
    "\n",
    "# Compute min of group values\n",
    "\n",
    "# Compute min of group values\n",
    "\n",
    "# Compute min of group values\n",
    "\n",
    "# Compute min of group values\n",
    "\n",
    "# Compute min of group values\n",
    "\n",
    "# Compute min of group values\n",
    "\n",
    "# Compute min of group values\n",
    "\n",
    "def dataframe_head():\n",
    "    df = pd.DataFrame({'animal': ['alligator', 'bee', 'falcon', 'lion',\n",
    "                                  'monkey', 'parrot', 'shark', 'whale', 'zebra']})\n",
    "\n",
    "    return df.head(n=6)\n",
    "\n",
    "\n",
    "print(dataframe_head())def dataframe_head():\n",
    "    df = pd.DataFrame({'animal': ['alligator', 'bee', 'falcon', 'lion',\n",
    "                                  'monkey', 'parrot', 'shark', 'whale', 'zebra']})\n",
    "\n",
    "    return df.head(n=6)\n",
    "\n",
    "\n",
    "print(dataframe_head())"
   ]
  }
 ],
 "metadata": {
  "kernelspec": {
   "display_name": "Python 3",
   "language": "python",
   "name": "python3"
  },
  "language_info": {
   "codemirror_mode": {
    "name": "ipython",
    "version": 3
   },
   "file_extension": ".py",
   "mimetype": "text/x-python",
   "name": "python",
   "nbconvert_exporter": "python",
   "pygments_lexer": "ipython3",
   "version": "3.7.6"
  },
  "varInspector": {
   "cols": {
    "lenName": 16,
    "lenType": 16,
    "lenVar": 40
   },
   "kernels_config": {
    "python": {
     "delete_cmd_postfix": "",
     "delete_cmd_prefix": "del ",
     "library": "var_list.py",
     "varRefreshCmd": "print(var_dic_list())"
    },
    "r": {
     "delete_cmd_postfix": ") ",
     "delete_cmd_prefix": "rm(",
     "library": "var_list.r",
     "varRefreshCmd": "cat(var_dic_list()) "
    }
   },
   "types_to_exclude": [
    "module",
    "function",
    "builtin_function_or_method",
    "instance",
    "_Feature"
   ],
   "window_display": false
  }
 },
 "nbformat": 4,
 "nbformat_minor": 4
}
