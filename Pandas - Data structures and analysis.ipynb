{
 "cells": [
  {
   "cell_type": "code",
   "execution_count": 7,
   "metadata": {},
   "outputs": [],
   "source": [
    "# Pandas - Data structures and analysis"
   ]
  },
  {
   "cell_type": "code",
   "execution_count": 130,
   "metadata": {},
   "outputs": [
    {
     "data": {
      "text/plain": [
       "0     0\n",
       "1     1\n",
       "2     2\n",
       "3     3\n",
       "4     5\n",
       "5     8\n",
       "6    13\n",
       "Name: Results, dtype: int64"
      ]
     },
     "execution_count": 130,
     "metadata": {},
     "output_type": "execute_result"
    }
   ],
   "source": [
    "# Pandas - One-dimensional data (Values)\n",
    "\n",
    "import pandas as pd\n",
    "series = pd.Series([0,1,2,3,5,8,13], name='Results') ;series"
   ]
  },
  {
   "cell_type": "code",
   "execution_count": 133,
   "metadata": {},
   "outputs": [
    {
     "name": "stdout",
     "output_type": "stream",
     "text": [
      "[ 1  3  5  7  9 11]\n",
      "index is ->  Index(['1st', '2nd', '3rd', '4th', '5th', '6th'], dtype='object')\n",
      "values are ->  [ 1  3  5  7  9 11]\n"
     ]
    }
   ],
   "source": [
    "# Series creation: LIST\n",
    "\n",
    "import numpy as np\n",
    "an_array=np.arange(1,12, 2)\n",
    "series=pd.Series(an_array, index = ['1st','2nd','3rd','4th','5th','6th']) ;series\n",
    "\n",
    "\n",
    "print(an_array)\n",
    "print('index is -> ', series.index)\n",
    "print('values are -> ',series.values)"
   ]
  },
  {
   "cell_type": "code",
   "execution_count": 135,
   "metadata": {},
   "outputs": [
    {
     "name": "stdout",
     "output_type": "stream",
     "text": [
      "dictionary ->  {'1st': 1, '2nd': 2, '3rd': 3}\n",
      "1st    1\n",
      "2nd    2\n",
      "3rd    3\n",
      "dtype: int64\n"
     ]
    }
   ],
   "source": [
    "# Series creation: DICTIONARY\n",
    "\n",
    "a_dict = {'1st':1, '2nd':2, '3rd':3}\n",
    "print('dictionary -> ', a_dict)\n",
    "\n",
    "series=pd.Series(a_dict)\n",
    "print(series)"
   ]
  },
  {
   "cell_type": "code",
   "execution_count": 84,
   "metadata": {},
   "outputs": [
    {
     "name": "stdout",
     "output_type": "stream",
     "text": [
      "series1 ->  0    99\n",
      "dtype: int64\n",
      "series2 ->  1st    99\n",
      "2nd    99\n",
      "3rd    99\n",
      "dtype: int64\n"
     ]
    }
   ],
   "source": [
    "# Series creation: A SCALAR VALUE\n",
    "\n",
    "series1=pd.Series(99)\n",
    "print('series1 -> ',series1)\n",
    "\n",
    "series2=pd.Series(99, index = ['1st','2nd','3rd'])\n",
    "print('series2 -> ',series2)"
   ]
  },
  {
   "cell_type": "code",
   "execution_count": 70,
   "metadata": {},
   "outputs": [
    {
     "name": "stdout",
     "output_type": "stream",
     "text": [
      "1st    1\n",
      "2nd    3\n",
      "3rd    5\n",
      "dtype: int32\n",
      "3\n",
      "5\n"
     ]
    }
   ],
   "source": [
    "# Selecting elements from a Series\n",
    "series=pd.Series(an_array, index = ['1st','2nd','3rd'])\n",
    "\n",
    "print(series)\n",
    "print(series[1])\n",
    "print(series['3rd'])\n"
   ]
  },
  {
   "cell_type": "code",
   "execution_count": 85,
   "metadata": {},
   "outputs": [
    {
     "name": "stdout",
     "output_type": "stream",
     "text": [
      "1st    1\n",
      "2nd    2\n",
      "dtype: int64\n"
     ]
    }
   ],
   "source": [
    "# Slicing elements from a Series\n",
    "\n",
    "print(series[0:2])"
   ]
  },
  {
   "cell_type": "code",
   "execution_count": 86,
   "metadata": {},
   "outputs": [
    {
     "name": "stdout",
     "output_type": "stream",
     "text": [
      "1st    1\n",
      "2nd    2\n",
      "dtype: int64\n"
     ]
    }
   ],
   "source": [
    "# Use a list of index numbers\n",
    "\n",
    "series=series[[0,1]]\n",
    "print(series)"
   ]
  },
  {
   "cell_type": "code",
   "execution_count": 104,
   "metadata": {},
   "outputs": [
    {
     "name": "stdout",
     "output_type": "stream",
     "text": [
      "6th    11\n",
      "dtype: int32\n",
      "4th    7\n",
      "dtype: int32\n"
     ]
    }
   ],
   "source": [
    "# Using conditions/operators\n",
    "\n",
    "an_array=np.arange(1,12, 2)\n",
    "series=pd.Series(an_array, index = ['1st','2nd','3rd','4th','5th','6th'])\n",
    "\n",
    "series1=series[series>10] #bigger than @10\n",
    "print(series1)\n",
    "\n",
    "series2=series[np.logical_and(series>6,series<9)] #b/n than @6 and &10\n",
    "print(series2)\n"
   ]
  },
  {
   "cell_type": "code",
   "execution_count": 111,
   "metadata": {},
   "outputs": [
    {
     "name": "stdout",
     "output_type": "stream",
     "text": [
      "1st     2\n",
      "2nd     6\n",
      "3rd    10\n",
      "4th    14\n",
      "5th    18\n",
      "6th    22\n",
      "dtype: int32\n",
      "1st    0.5\n",
      "2nd    1.5\n",
      "3rd    2.5\n",
      "4th    3.5\n",
      "5th    4.5\n",
      "6th    5.5\n",
      "dtype: float64\n"
     ]
    }
   ],
   "source": [
    "# Using maths\n",
    "\n",
    "series1=series+series\n",
    "print(series1)\n",
    "\n",
    "series2=series/2\n",
    "print(series2)"
   ]
  },
  {
   "cell_type": "code",
   "execution_count": null,
   "metadata": {},
   "outputs": [],
   "source": [
    "# Pandas -DataFrame\n"
   ]
  },
  {
   "cell_type": "code",
   "execution_count": 121,
   "metadata": {},
   "outputs": [
    {
     "data": {
      "text/html": [
       "<div>\n",
       "<style scoped>\n",
       "    .dataframe tbody tr th:only-of-type {\n",
       "        vertical-align: middle;\n",
       "    }\n",
       "\n",
       "    .dataframe tbody tr th {\n",
       "        vertical-align: top;\n",
       "    }\n",
       "\n",
       "    .dataframe thead th {\n",
       "        text-align: right;\n",
       "    }\n",
       "</style>\n",
       "<table border=\"1\" class=\"dataframe\">\n",
       "  <thead>\n",
       "    <tr style=\"text-align: right;\">\n",
       "      <th></th>\n",
       "      <th>age</th>\n",
       "      <th>marks</th>\n",
       "    </tr>\n",
       "  </thead>\n",
       "  <tbody>\n",
       "    <tr>\n",
       "      <th>0</th>\n",
       "      <td>33</td>\n",
       "      <td>21</td>\n",
       "    </tr>\n",
       "    <tr>\n",
       "      <th>1</th>\n",
       "      <td>24</td>\n",
       "      <td>57</td>\n",
       "    </tr>\n",
       "    <tr>\n",
       "      <th>2</th>\n",
       "      <td>41</td>\n",
       "      <td>89</td>\n",
       "    </tr>\n",
       "  </tbody>\n",
       "</table>\n",
       "</div>"
      ],
      "text/plain": [
       "   age  marks\n",
       "0   33     21\n",
       "1   24     57\n",
       "2   41     89"
      ]
     },
     "execution_count": 121,
     "metadata": {},
     "output_type": "execute_result"
    }
   ],
   "source": [
    "# DataFrame creation\n",
    "\n",
    "an_array=np.array([(33,21), (24,57), (41,89)])\n",
    "df = pd.DataFrame(an_array,columns=['age','marks']) ;df"
   ]
  },
  {
   "cell_type": "code",
   "execution_count": 127,
   "metadata": {},
   "outputs": [
    {
     "name": "stdout",
     "output_type": "stream",
     "text": [
      "       age  marks\n",
      "mark    33     21\n",
      "john    24     57\n",
      "merry   41     89\n",
      "[[33 21]\n",
      " [24 57]\n",
      " [41 89]]\n",
      "Index(['mark', 'john', 'merry'], dtype='object')\n"
     ]
    }
   ],
   "source": [
    "# DataFrame creation: Using a two-dimensional ndarray\n",
    "\n",
    "df = pd.DataFrame(an_array, index=['mark', 'john', 'merry'], columns=['age','marks'])\n",
    "\n",
    "print(df)\n",
    "print(df.values)\n",
    "print(df.index)\n"
   ]
  },
  {
   "cell_type": "code",
   "execution_count": null,
   "metadata": {},
   "outputs": [],
   "source": [
    "# DataFrame creation: Using a dictionary of dictionaries\n",
    "\n",
    "#https://medium.com/data-science-365/pandas-for-data-science-part-1-89bc231b3478"
   ]
  }
 ],
 "metadata": {
  "kernelspec": {
   "display_name": "Python 3",
   "language": "python",
   "name": "python3"
  },
  "language_info": {
   "codemirror_mode": {
    "name": "ipython",
    "version": 3
   },
   "file_extension": ".py",
   "mimetype": "text/x-python",
   "name": "python",
   "nbconvert_exporter": "python",
   "pygments_lexer": "ipython3",
   "version": "3.7.6"
  },
  "varInspector": {
   "cols": {
    "lenName": 16,
    "lenType": 16,
    "lenVar": 40
   },
   "kernels_config": {
    "python": {
     "delete_cmd_postfix": "",
     "delete_cmd_prefix": "del ",
     "library": "var_list.py",
     "varRefreshCmd": "print(var_dic_list())"
    },
    "r": {
     "delete_cmd_postfix": ") ",
     "delete_cmd_prefix": "rm(",
     "library": "var_list.r",
     "varRefreshCmd": "cat(var_dic_list()) "
    }
   },
   "types_to_exclude": [
    "module",
    "function",
    "builtin_function_or_method",
    "instance",
    "_Feature"
   ],
   "window_display": true
  }
 },
 "nbformat": 4,
 "nbformat_minor": 4
}
